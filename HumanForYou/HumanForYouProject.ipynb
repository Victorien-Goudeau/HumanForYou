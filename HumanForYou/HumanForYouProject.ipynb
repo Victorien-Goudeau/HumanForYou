{
 "cells": [
  {
   "cell_type": "code",
   "execution_count": 2,
   "id": "initial_id",
   "metadata": {
    "collapsed": true,
    "ExecuteTime": {
     "end_time": "2024-02-07T20:52:56.667798500Z",
     "start_time": "2024-02-07T20:52:54.216226300Z"
    }
   },
   "outputs": [],
   "source": [
    "import pandas as pd\n",
    "import numpy as np\n",
    "import matplotlib.pyplot as plt\n",
    "import seaborn as sns\n",
    "import warnings\n",
    "import os, uuid\n",
    "from sklearn.pipeline import Pipeline\n",
    "from azure.identity import DefaultAzureCredential\n",
    "from azure.storage.blob import BlobServiceClient, BlobClient, ContainerClient\n",
    "from io import BytesIO\n",
    "from sklearn.base import BaseEstimator, TransformerMixin\n",
    "from sklearn.preprocessing import OrdinalEncoder\n",
    "warnings.filterwarnings('ignore')\n",
    "from pycaret.classification import *\n",
    "from sklearn.metrics import average_precision_score\n",
    "sns.set()"
   ]
  },
  {
   "cell_type": "code",
   "outputs": [],
   "source": [
    "connect_str = os.getenv('AZURE_STORAGE_CONNECTION_STRING')\n",
    "blob_service_client = BlobServiceClient.from_connection_string(connect_str)\n",
    "container_client = blob_service_client.get_container_client(\"data\")"
   ],
   "metadata": {
    "collapsed": false,
    "ExecuteTime": {
     "end_time": "2024-02-07T20:52:56.674318200Z",
     "start_time": "2024-02-07T20:52:56.668799700Z"
    }
   },
   "id": "f7e67276eeeffbb2",
   "execution_count": 3
  },
  {
   "cell_type": "code",
   "outputs": [],
   "source": [
    "def download_blob_to_df(blob_name):\n",
    "    blob_client = container_client.get_blob_client(blob_name)\n",
    "    download_stream = blob_client.download_blob()\n",
    "    blob_data = BytesIO(download_stream.readall())\n",
    "    return pd.read_csv(blob_data)"
   ],
   "metadata": {
    "collapsed": false,
    "ExecuteTime": {
     "end_time": "2024-02-07T20:52:56.680403100Z",
     "start_time": "2024-02-07T20:52:56.672812600Z"
    }
   },
   "id": "e2bd030194ced972",
   "execution_count": 4
  },
  {
   "cell_type": "code",
   "outputs": [],
   "source": [
    "in_time_df = download_blob_to_df(\"in_time.csv\")\n",
    "manager_survey_data_df = download_blob_to_df(\"manager_survey_data.csv\")\n",
    "employee_survey_data_df = download_blob_to_df(\"employee_survey_data.csv\")\n",
    "out_time_df = download_blob_to_df(\"out_time.csv\")\n",
    "general_data_df = download_blob_to_df(\"general_data.csv\")"
   ],
   "metadata": {
    "collapsed": false,
    "ExecuteTime": {
     "end_time": "2024-02-07T20:53:30.252074700Z",
     "start_time": "2024-02-07T20:52:56.681909800Z"
    }
   },
   "id": "f9c7df4c97867cae",
   "execution_count": 5
  },
  {
   "cell_type": "code",
   "outputs": [],
   "source": [
    "class mergeDataFrame (BaseEstimator, TransformerMixin):\n",
    "    def __init__(self, employee_survey_data_df, manager_survey_data_df, in_time_df, out_time_df):\n",
    "        self.employee_survey_data_df = employee_survey_data_df\n",
    "        self.manager_survey_data_df = manager_survey_data_df\n",
    "        self.in_time_df = in_time_df\n",
    "        self.out_time_df = out_time_df\n",
    "        \n",
    "            \n",
    "    def fit(self, X, y=None):\n",
    "        return self\n",
    "    \n",
    "    def transform(self, X):\n",
    "        X = X.join(self.employee_survey_data_df.set_index('EmployeeID'), on='EmployeeID')\n",
    "        X = X.join(self.manager_survey_data_df.set_index('EmployeeID'), on='EmployeeID')\n",
    "\n",
    "        employee_id_index = self.in_time_df['Unnamed: 0']\n",
    "        self.in_time_df.fillna(0,inplace=True)\n",
    "        self.out_time_df.fillna(0,inplace= True)\n",
    "        self.in_time_df.drop(columns={'Unnamed: 0':'EmployeeID'}, inplace=True)\n",
    "        self.out_time_df.drop(columns={'Unnamed: 0':'EmployeeID'}, inplace=True)\n",
    "        \n",
    "\n",
    "        for col in self.in_time_df.columns:\n",
    "            self.in_time_df[col] = pd.to_datetime(self.in_time_df[col], errors='coerce')\n",
    "\n",
    "        for col in self.out_time_df.columns:\n",
    "            self.out_time_df[col] = pd.to_datetime(self.out_time_df[col], errors='coerce')\n",
    "        \n",
    "        daily_hours = (self.out_time_df - self.in_time_df).applymap(lambda x: x.total_seconds() / 3600)\n",
    "        daily_hours = daily_hours.fillna(0)\n",
    "        daily_hours['PresenceIndicator'] = daily_hours.iloc[:, 1:].apply(lambda row: sum(1 if hours >= 8 else 0 for hours in row), axis=1)\n",
    "\n",
    "        presence_indicator = pd.DataFrame({'EmployeeID': employee_id_index, 'PresenceIndicator': daily_hours['PresenceIndicator']})\n",
    "        \n",
    "        X = X.join(presence_indicator.set_index('EmployeeID'), on='EmployeeID', how='inner')\n",
    "        return X\n",
    "        "
   ],
   "metadata": {
    "collapsed": false,
    "ExecuteTime": {
     "end_time": "2024-02-07T20:53:30.263291200Z",
     "start_time": "2024-02-07T20:53:30.254076200Z"
    }
   },
   "id": "6db6186ac9ab9cfb",
   "execution_count": 6
  },
  {
   "cell_type": "code",
   "outputs": [],
   "source": [
    "class deleteColumns(BaseEstimator, TransformerMixin):\n",
    "    def __init__(self, array):\n",
    "        self.array = array\n",
    "\n",
    "    def fit(self, X, y=None):\n",
    "        return self\n",
    "\n",
    "    def transform(self, X, y=None):\n",
    "        X.drop(columns=self.array, inplace=True)\n",
    "        return X"
   ],
   "metadata": {
    "collapsed": false,
    "ExecuteTime": {
     "end_time": "2024-02-07T20:53:30.274210Z",
     "start_time": "2024-02-07T20:53:30.262278100Z"
    }
   },
   "id": "4d3bd59a918a7002",
   "execution_count": 7
  },
  {
   "cell_type": "code",
   "outputs": [],
   "source": [
    "class encodingData (BaseEstimator, TransformerMixin):\n",
    "    def fit(self, X, y=None):\n",
    "        return self\n",
    "    \n",
    "    def transform(self, X):\n",
    "        X[\"Attrition\"] = X[\"Attrition\"].map({\"Yes\": 1, \"No\": 0})\n",
    "        X[\"BusinessTravel\"] = X[\"BusinessTravel\"].map({\"Non-Travel\": 0, \"Travel_Rarely\": 1, \"Travel_Frequently\": 2})\n",
    "        ordinal_encoder = OrdinalEncoder()\n",
    "        for i in X.select_dtypes(include=[\"object\"]).keys():\n",
    "            X[i] = ordinal_encoder.fit_transform(X[[i]])\n",
    "        return X"
   ],
   "metadata": {
    "collapsed": false,
    "ExecuteTime": {
     "end_time": "2024-02-07T20:53:30.276872Z",
     "start_time": "2024-02-07T20:53:30.271212300Z"
    }
   },
   "id": "f4dd920acb3686b1",
   "execution_count": 8
  },
  {
   "cell_type": "code",
   "outputs": [],
   "source": [
    "class cleanData (BaseEstimator, TransformerMixin):\n",
    "    def fit(self, X, y=None):\n",
    "        return self\n",
    "    \n",
    "    def transform(self, X):\n",
    "        environmentSatisfactionMedian = X.EnvironmentSatisfaction.median()\n",
    "        jobSatisfactionMedian = X.JobSatisfaction.median()\n",
    "        workLifeBalanceMedian = X.WorkLifeBalance.median()\n",
    "        totalWorkingYears_median = X['TotalWorkingYears'].median()\n",
    "        X['EnvironmentSatisfaction'].fillna(environmentSatisfactionMedian, inplace = True)\n",
    "        X['JobSatisfaction'].fillna(jobSatisfactionMedian, inplace = True)\n",
    "        X['WorkLifeBalance'].fillna(workLifeBalanceMedian, inplace = True)\n",
    "        X['TotalWorkingYears'].fillna(totalWorkingYears_median, inplace = True)\n",
    "        X['NumCompaniesWorked'].fillna(1.0, inplace = True)\n",
    "        X = X.fillna(0)\n",
    "        return X"
   ],
   "metadata": {
    "collapsed": false,
    "ExecuteTime": {
     "end_time": "2024-02-07T20:53:30.299987700Z",
     "start_time": "2024-02-07T20:53:30.278878100Z"
    }
   },
   "id": "ca7f8dc86b8f26e9",
   "execution_count": 9
  },
  {
   "cell_type": "code",
   "outputs": [],
   "source": [
    "class corrData(BaseEstimator, TransformerMixin):\n",
    "    def fit(self, X, y=None):\n",
    "        return self\n",
    "\n",
    "    def transform(self, X, y=None):\n",
    "        # Calculate correlations and retain only significant ones\n",
    "        corr_x = self.retain_terminal(X.corr())\n",
    "        significant_parameters, _ = self.separation_significant_parameters(corr_x)\n",
    "\n",
    "        # Recalculate correlations only among significant parameters\n",
    "        corr_tmp = X[significant_parameters].corr()\n",
    "        corr_tmp = self.retain_terminal(corr_tmp)\n",
    "\n",
    "        # Select only features with non-zero correlation to 'Attrition'\n",
    "        significant_features = corr_tmp.Attrition[corr_tmp.Attrition != 0].index.tolist()\n",
    "        return X[significant_features]\n",
    "\n",
    "    def retain_terminal(self, frame):\n",
    "        # Set correlation values below threshold to zero\n",
    "        for i in frame.columns:\n",
    "            for j in frame.index:\n",
    "                if abs(frame.loc[j, i]) < 0.1:\n",
    "                    frame.loc[j, i] = 0\n",
    "        return frame\n",
    "\n",
    "    def separation_significant_parameters(self, frame):\n",
    "        # Separate parameters based on their significance\n",
    "        significant_parameter = []\n",
    "        insignificant_parameter = []\n",
    "        for column in frame.columns:\n",
    "            if not all(frame[column] == 0):\n",
    "                significant_parameter.append(column)\n",
    "            else:\n",
    "                insignificant_parameter.append(column)\n",
    "        return significant_parameter, insignificant_parameter\n"
   ],
   "metadata": {
    "collapsed": false,
    "ExecuteTime": {
     "end_time": "2024-02-07T20:53:30.301493500Z",
     "start_time": "2024-02-07T20:53:30.282568600Z"
    }
   },
   "id": "ead76ab869d4b8df",
   "execution_count": 10
  },
  {
   "cell_type": "code",
   "outputs": [
    {
     "data": {
      "text/plain": "Pipeline(steps=[('merge',\n                 mergeDataFrame(employee_survey_data_df=      EmployeeID  EnvironmentSatisfaction  JobSatisfaction  WorkLifeBalance\n0              1                      3.0              4.0              2.0\n1              2                      3.0              2.0              4.0\n2              3                      2.0              2.0              1.0\n3              4                      4.0              4.0              3.0\n4              5                      4.0              1.0              3.0\n...          ...                      ...              ...              ...\n4405        4406                      4.0              1.0              3.0\n4406        4407                      4.0              4.0              3.0\n4407        4408                      1.0              3.0              3.0\n4408        4409                      4.0              1.0              3.0\n4409        4410                      1.0              3.0              NaN\n\n[4410 rows x 4 columns],\n                                in_time_df=      Unnamed: 0  2015-01-01           2015-01-02           2015-01-...\n3     2015-12-31 17:09:14  \n4     2015-12-31 17:42:14  \n...                   ...  \n4405  2015-12-31 18:30:41  \n4406  2015-12-31 16:18:39  \n4407  2015-12-31 18:08:55  \n4408  2015-12-31 19:33:45  \n4409  2015-12-31 16:39:18  \n\n[4410 rows x 262 columns])),\n                ('delete',\n                 deleteColumns(array=['EmployeeID', 'EmployeeCount', 'Over18',\n                                      'StandardHours', 'MaritalStatus',\n                                      'Gender', 'Age'])),\n                ('encoding', encodingData()), ('clean', cleanData()),\n                ('corr', corrData())])",
      "text/html": "<style>#sk-container-id-1 {color: black;background-color: white;}#sk-container-id-1 pre{padding: 0;}#sk-container-id-1 div.sk-toggleable {background-color: white;}#sk-container-id-1 label.sk-toggleable__label {cursor: pointer;display: block;width: 100%;margin-bottom: 0;padding: 0.3em;box-sizing: border-box;text-align: center;}#sk-container-id-1 label.sk-toggleable__label-arrow:before {content: \"▸\";float: left;margin-right: 0.25em;color: #696969;}#sk-container-id-1 label.sk-toggleable__label-arrow:hover:before {color: black;}#sk-container-id-1 div.sk-estimator:hover label.sk-toggleable__label-arrow:before {color: black;}#sk-container-id-1 div.sk-toggleable__content {max-height: 0;max-width: 0;overflow: hidden;text-align: left;background-color: #f0f8ff;}#sk-container-id-1 div.sk-toggleable__content pre {margin: 0.2em;color: black;border-radius: 0.25em;background-color: #f0f8ff;}#sk-container-id-1 input.sk-toggleable__control:checked~div.sk-toggleable__content {max-height: 200px;max-width: 100%;overflow: auto;}#sk-container-id-1 input.sk-toggleable__control:checked~label.sk-toggleable__label-arrow:before {content: \"▾\";}#sk-container-id-1 div.sk-estimator input.sk-toggleable__control:checked~label.sk-toggleable__label {background-color: #d4ebff;}#sk-container-id-1 div.sk-label input.sk-toggleable__control:checked~label.sk-toggleable__label {background-color: #d4ebff;}#sk-container-id-1 input.sk-hidden--visually {border: 0;clip: rect(1px 1px 1px 1px);clip: rect(1px, 1px, 1px, 1px);height: 1px;margin: -1px;overflow: hidden;padding: 0;position: absolute;width: 1px;}#sk-container-id-1 div.sk-estimator {font-family: monospace;background-color: #f0f8ff;border: 1px dotted black;border-radius: 0.25em;box-sizing: border-box;margin-bottom: 0.5em;}#sk-container-id-1 div.sk-estimator:hover {background-color: #d4ebff;}#sk-container-id-1 div.sk-parallel-item::after {content: \"\";width: 100%;border-bottom: 1px solid gray;flex-grow: 1;}#sk-container-id-1 div.sk-label:hover label.sk-toggleable__label {background-color: #d4ebff;}#sk-container-id-1 div.sk-serial::before {content: \"\";position: absolute;border-left: 1px solid gray;box-sizing: border-box;top: 0;bottom: 0;left: 50%;z-index: 0;}#sk-container-id-1 div.sk-serial {display: flex;flex-direction: column;align-items: center;background-color: white;padding-right: 0.2em;padding-left: 0.2em;position: relative;}#sk-container-id-1 div.sk-item {position: relative;z-index: 1;}#sk-container-id-1 div.sk-parallel {display: flex;align-items: stretch;justify-content: center;background-color: white;position: relative;}#sk-container-id-1 div.sk-item::before, #sk-container-id-1 div.sk-parallel-item::before {content: \"\";position: absolute;border-left: 1px solid gray;box-sizing: border-box;top: 0;bottom: 0;left: 50%;z-index: -1;}#sk-container-id-1 div.sk-parallel-item {display: flex;flex-direction: column;z-index: 1;position: relative;background-color: white;}#sk-container-id-1 div.sk-parallel-item:first-child::after {align-self: flex-end;width: 50%;}#sk-container-id-1 div.sk-parallel-item:last-child::after {align-self: flex-start;width: 50%;}#sk-container-id-1 div.sk-parallel-item:only-child::after {width: 0;}#sk-container-id-1 div.sk-dashed-wrapped {border: 1px dashed gray;margin: 0 0.4em 0.5em 0.4em;box-sizing: border-box;padding-bottom: 0.4em;background-color: white;}#sk-container-id-1 div.sk-label label {font-family: monospace;font-weight: bold;display: inline-block;line-height: 1.2em;}#sk-container-id-1 div.sk-label-container {text-align: center;}#sk-container-id-1 div.sk-container {/* jupyter's `normalize.less` sets `[hidden] { display: none; }` but bootstrap.min.css set `[hidden] { display: none !important; }` so we also need the `!important` here to be able to override the default hidden behavior on the sphinx rendered scikit-learn.org. See: https://github.com/scikit-learn/scikit-learn/issues/21755 */display: inline-block !important;position: relative;}#sk-container-id-1 div.sk-text-repr-fallback {display: none;}</style><div id=\"sk-container-id-1\" class=\"sk-top-container\"><div class=\"sk-text-repr-fallback\"><pre>Pipeline(steps=[(&#x27;merge&#x27;,\n                 mergeDataFrame(employee_survey_data_df=      EmployeeID  EnvironmentSatisfaction  JobSatisfaction  WorkLifeBalance\n0              1                      3.0              4.0              2.0\n1              2                      3.0              2.0              4.0\n2              3                      2.0              2.0              1.0\n3              4                      4.0              4.0              3.0\n4              5                      4.0              1.0              3.0\n...          ...                      ...              ...              ...\n4405        4406                      4.0              1.0              3.0\n4406        4407                      4.0              4.0              3.0\n4407        4408                      1.0              3.0              3.0\n4408        4409                      4.0              1.0              3.0\n4409        4410                      1.0              3.0              NaN\n\n[4410 rows x 4 columns],\n                                in_time_df=      Unnamed: 0  2015-01-01           2015-01-02           2015-01-...\n3     2015-12-31 17:09:14  \n4     2015-12-31 17:42:14  \n...                   ...  \n4405  2015-12-31 18:30:41  \n4406  2015-12-31 16:18:39  \n4407  2015-12-31 18:08:55  \n4408  2015-12-31 19:33:45  \n4409  2015-12-31 16:39:18  \n\n[4410 rows x 262 columns])),\n                (&#x27;delete&#x27;,\n                 deleteColumns(array=[&#x27;EmployeeID&#x27;, &#x27;EmployeeCount&#x27;, &#x27;Over18&#x27;,\n                                      &#x27;StandardHours&#x27;, &#x27;MaritalStatus&#x27;,\n                                      &#x27;Gender&#x27;, &#x27;Age&#x27;])),\n                (&#x27;encoding&#x27;, encodingData()), (&#x27;clean&#x27;, cleanData()),\n                (&#x27;corr&#x27;, corrData())])</pre><b>In a Jupyter environment, please rerun this cell to show the HTML representation or trust the notebook. <br />On GitHub, the HTML representation is unable to render, please try loading this page with nbviewer.org.</b></div><div class=\"sk-container\" hidden><div class=\"sk-item sk-dashed-wrapped\"><div class=\"sk-label-container\"><div class=\"sk-label sk-toggleable\"><input class=\"sk-toggleable__control sk-hidden--visually\" id=\"sk-estimator-id-1\" type=\"checkbox\" ><label for=\"sk-estimator-id-1\" class=\"sk-toggleable__label sk-toggleable__label-arrow\">Pipeline</label><div class=\"sk-toggleable__content\"><pre>Pipeline(steps=[(&#x27;merge&#x27;,\n                 mergeDataFrame(employee_survey_data_df=      EmployeeID  EnvironmentSatisfaction  JobSatisfaction  WorkLifeBalance\n0              1                      3.0              4.0              2.0\n1              2                      3.0              2.0              4.0\n2              3                      2.0              2.0              1.0\n3              4                      4.0              4.0              3.0\n4              5                      4.0              1.0              3.0\n...          ...                      ...              ...              ...\n4405        4406                      4.0              1.0              3.0\n4406        4407                      4.0              4.0              3.0\n4407        4408                      1.0              3.0              3.0\n4408        4409                      4.0              1.0              3.0\n4409        4410                      1.0              3.0              NaN\n\n[4410 rows x 4 columns],\n                                in_time_df=      Unnamed: 0  2015-01-01           2015-01-02           2015-01-...\n3     2015-12-31 17:09:14  \n4     2015-12-31 17:42:14  \n...                   ...  \n4405  2015-12-31 18:30:41  \n4406  2015-12-31 16:18:39  \n4407  2015-12-31 18:08:55  \n4408  2015-12-31 19:33:45  \n4409  2015-12-31 16:39:18  \n\n[4410 rows x 262 columns])),\n                (&#x27;delete&#x27;,\n                 deleteColumns(array=[&#x27;EmployeeID&#x27;, &#x27;EmployeeCount&#x27;, &#x27;Over18&#x27;,\n                                      &#x27;StandardHours&#x27;, &#x27;MaritalStatus&#x27;,\n                                      &#x27;Gender&#x27;, &#x27;Age&#x27;])),\n                (&#x27;encoding&#x27;, encodingData()), (&#x27;clean&#x27;, cleanData()),\n                (&#x27;corr&#x27;, corrData())])</pre></div></div></div><div class=\"sk-serial\"><div class=\"sk-item\"><div class=\"sk-estimator sk-toggleable\"><input class=\"sk-toggleable__control sk-hidden--visually\" id=\"sk-estimator-id-2\" type=\"checkbox\" ><label for=\"sk-estimator-id-2\" class=\"sk-toggleable__label sk-toggleable__label-arrow\">mergeDataFrame</label><div class=\"sk-toggleable__content\"><pre>mergeDataFrame(employee_survey_data_df=      EmployeeID  EnvironmentSatisfaction  JobSatisfaction  WorkLifeBalance\n0              1                      3.0              4.0              2.0\n1              2                      3.0              2.0              4.0\n2              3                      2.0              2.0              1.0\n3              4                      4.0              4.0              3.0\n4              5                      4.0              1.0              3.0\n...          ...                      ...              ...              ...\n4405        4406                      4.0              1.0              3.0\n4406        4407                      4.0              4.0              3.0\n4407        4408                      1.0              3.0              3.0\n4408        4409                      4.0              1.0              3.0\n4409        4410                      1.0              3.0              NaN\n\n[4410 rows x 4 columns],\n               in_time_df=      Unnamed: 0  2015-01-01           2015-01-02           2015-01-05  \\\n0              1         NaN  2015-01-02 09:43:4...\n4408  2015-12-28 19:58:36  2015-12-29 18:55:26  2015-12-30 19:37:22   \n4409  2015-12-28 17:14:44  2015-12-29 17:16:19  2015-12-30 17:29:55   \n\n               2015-12-31  \n0     2015-12-31 17:17:33  \n1     2015-12-31 17:40:58  \n2     2015-12-31 17:15:50  \n3     2015-12-31 17:09:14  \n4     2015-12-31 17:42:14  \n...                   ...  \n4405  2015-12-31 18:30:41  \n4406  2015-12-31 16:18:39  \n4407  2015-12-31 18:08:55  \n4408  2015-12-31 19:33:45  \n4409  2015-12-31 16:39:18  \n\n[4410 rows x 262 columns])</pre></div></div></div><div class=\"sk-item\"><div class=\"sk-estimator sk-toggleable\"><input class=\"sk-toggleable__control sk-hidden--visually\" id=\"sk-estimator-id-3\" type=\"checkbox\" ><label for=\"sk-estimator-id-3\" class=\"sk-toggleable__label sk-toggleable__label-arrow\">deleteColumns</label><div class=\"sk-toggleable__content\"><pre>deleteColumns(array=[&#x27;EmployeeID&#x27;, &#x27;EmployeeCount&#x27;, &#x27;Over18&#x27;, &#x27;StandardHours&#x27;,\n                     &#x27;MaritalStatus&#x27;, &#x27;Gender&#x27;, &#x27;Age&#x27;])</pre></div></div></div><div class=\"sk-item\"><div class=\"sk-estimator sk-toggleable\"><input class=\"sk-toggleable__control sk-hidden--visually\" id=\"sk-estimator-id-4\" type=\"checkbox\" ><label for=\"sk-estimator-id-4\" class=\"sk-toggleable__label sk-toggleable__label-arrow\">encodingData</label><div class=\"sk-toggleable__content\"><pre>encodingData()</pre></div></div></div><div class=\"sk-item\"><div class=\"sk-estimator sk-toggleable\"><input class=\"sk-toggleable__control sk-hidden--visually\" id=\"sk-estimator-id-5\" type=\"checkbox\" ><label for=\"sk-estimator-id-5\" class=\"sk-toggleable__label sk-toggleable__label-arrow\">cleanData</label><div class=\"sk-toggleable__content\"><pre>cleanData()</pre></div></div></div><div class=\"sk-item\"><div class=\"sk-estimator sk-toggleable\"><input class=\"sk-toggleable__control sk-hidden--visually\" id=\"sk-estimator-id-6\" type=\"checkbox\" ><label for=\"sk-estimator-id-6\" class=\"sk-toggleable__label sk-toggleable__label-arrow\">corrData</label><div class=\"sk-toggleable__content\"><pre>corrData()</pre></div></div></div></div></div></div></div>"
     },
     "metadata": {},
     "output_type": "display_data"
    }
   ],
   "source": [
    "pipeline = Pipeline([\n",
    "    ('merge', mergeDataFrame(employee_survey_data_df, manager_survey_data_df, in_time_df, out_time_df)),\n",
    "    ('delete', deleteColumns(['EmployeeID', 'EmployeeCount', 'Over18', 'StandardHours', 'MaritalStatus', 'Gender', 'Age'])),\n",
    "    ('encoding', encodingData()),\n",
    "    ('clean', cleanData()),\n",
    "    ('corr', corrData())\n",
    "])\n",
    "from sklearn import set_config\n",
    "set_config(display='diagram')\n",
    "display(pipeline)"
   ],
   "metadata": {
    "collapsed": false,
    "ExecuteTime": {
     "end_time": "2024-02-07T20:53:30.861784800Z",
     "start_time": "2024-02-07T20:53:30.292953600Z"
    }
   },
   "id": "3f5df3156d7031c9",
   "execution_count": 11
  },
  {
   "cell_type": "code",
   "outputs": [
    {
     "data": {
      "text/plain": "      BusinessTravel  TotalWorkingYears  YearsAtCompany  YearsWithCurrManager  \\\n0                  1                1.0               1                     0   \n1                  2                6.0               5                     4   \n2                  2                5.0               5                     3   \n3                  0               13.0               8                     5   \n4                  1                9.0               6                     4   \n...              ...                ...             ...                   ...   \n4405               1               10.0               3                     2   \n4406               1               10.0               3                     2   \n4407               1                5.0               4                     2   \n4408               1               10.0               9                     8   \n4409               1               10.0              21                     9   \n\n      EnvironmentSatisfaction  JobSatisfaction  PresenceIndicator  \n0                         3.0              4.0                  0  \n1                         3.0              2.0                 42  \n2                         2.0              2.0                  0  \n3                         4.0              4.0                  0  \n4                         4.0              1.0                115  \n...                       ...              ...                ...  \n4405                      4.0              1.0                237  \n4406                      4.0              4.0                  0  \n4407                      1.0              3.0                 41  \n4408                      4.0              1.0                241  \n4409                      1.0              3.0                  0  \n\n[4410 rows x 7 columns]",
      "text/html": "<div>\n<style scoped>\n    .dataframe tbody tr th:only-of-type {\n        vertical-align: middle;\n    }\n\n    .dataframe tbody tr th {\n        vertical-align: top;\n    }\n\n    .dataframe thead th {\n        text-align: right;\n    }\n</style>\n<table border=\"1\" class=\"dataframe\">\n  <thead>\n    <tr style=\"text-align: right;\">\n      <th></th>\n      <th>BusinessTravel</th>\n      <th>TotalWorkingYears</th>\n      <th>YearsAtCompany</th>\n      <th>YearsWithCurrManager</th>\n      <th>EnvironmentSatisfaction</th>\n      <th>JobSatisfaction</th>\n      <th>PresenceIndicator</th>\n    </tr>\n  </thead>\n  <tbody>\n    <tr>\n      <th>0</th>\n      <td>1</td>\n      <td>1.0</td>\n      <td>1</td>\n      <td>0</td>\n      <td>3.0</td>\n      <td>4.0</td>\n      <td>0</td>\n    </tr>\n    <tr>\n      <th>1</th>\n      <td>2</td>\n      <td>6.0</td>\n      <td>5</td>\n      <td>4</td>\n      <td>3.0</td>\n      <td>2.0</td>\n      <td>42</td>\n    </tr>\n    <tr>\n      <th>2</th>\n      <td>2</td>\n      <td>5.0</td>\n      <td>5</td>\n      <td>3</td>\n      <td>2.0</td>\n      <td>2.0</td>\n      <td>0</td>\n    </tr>\n    <tr>\n      <th>3</th>\n      <td>0</td>\n      <td>13.0</td>\n      <td>8</td>\n      <td>5</td>\n      <td>4.0</td>\n      <td>4.0</td>\n      <td>0</td>\n    </tr>\n    <tr>\n      <th>4</th>\n      <td>1</td>\n      <td>9.0</td>\n      <td>6</td>\n      <td>4</td>\n      <td>4.0</td>\n      <td>1.0</td>\n      <td>115</td>\n    </tr>\n    <tr>\n      <th>...</th>\n      <td>...</td>\n      <td>...</td>\n      <td>...</td>\n      <td>...</td>\n      <td>...</td>\n      <td>...</td>\n      <td>...</td>\n    </tr>\n    <tr>\n      <th>4405</th>\n      <td>1</td>\n      <td>10.0</td>\n      <td>3</td>\n      <td>2</td>\n      <td>4.0</td>\n      <td>1.0</td>\n      <td>237</td>\n    </tr>\n    <tr>\n      <th>4406</th>\n      <td>1</td>\n      <td>10.0</td>\n      <td>3</td>\n      <td>2</td>\n      <td>4.0</td>\n      <td>4.0</td>\n      <td>0</td>\n    </tr>\n    <tr>\n      <th>4407</th>\n      <td>1</td>\n      <td>5.0</td>\n      <td>4</td>\n      <td>2</td>\n      <td>1.0</td>\n      <td>3.0</td>\n      <td>41</td>\n    </tr>\n    <tr>\n      <th>4408</th>\n      <td>1</td>\n      <td>10.0</td>\n      <td>9</td>\n      <td>8</td>\n      <td>4.0</td>\n      <td>1.0</td>\n      <td>241</td>\n    </tr>\n    <tr>\n      <th>4409</th>\n      <td>1</td>\n      <td>10.0</td>\n      <td>21</td>\n      <td>9</td>\n      <td>1.0</td>\n      <td>3.0</td>\n      <td>0</td>\n    </tr>\n  </tbody>\n</table>\n<p>4410 rows × 7 columns</p>\n</div>"
     },
     "execution_count": 12,
     "metadata": {},
     "output_type": "execute_result"
    }
   ],
   "source": [
    "dataset = pipeline.fit_transform(general_data_df)\n",
    "\n",
    "labels = dataset.keys().to_list()\n",
    "labels.remove('Attrition')\n",
    "\n",
    "X = dataset[labels]\n",
    "y = dataset['Attrition']\n",
    "# Features\n",
    "X\n",
    "\n"
   ],
   "metadata": {
    "collapsed": false,
    "ExecuteTime": {
     "end_time": "2024-02-07T20:53:34.274387900Z",
     "start_time": "2024-02-07T20:53:30.860785400Z"
    }
   },
   "id": "ab1fd5960b22a78e",
   "execution_count": 12
  },
  {
   "cell_type": "markdown",
   "source": [
    "# Choix des métriques de performance "
   ],
   "metadata": {
    "collapsed": false
   },
   "id": "cdf7eb2d87e66ee0"
  },
  {
   "cell_type": "markdown",
   "source": [
    "Afin de mesurer la performance de nos modèles pour savoir quels seront les meilleurs modèles, il est important de définir en amont des métriques de performance pour effectuer ce choix. Pour ce faire il existe plusieurs métriques de performance pour les problèmes de classification binaire."
   ],
   "metadata": {
    "collapsed": false
   },
   "id": "6256a72631cd5a07"
  },
  {
   "cell_type": "markdown",
   "source": [
    "### Accuracy\n",
    "\n",
    "L'accuracy est la métrique la plus simple et la plus utilisée pour mesurer la performance d'un modèle. Elle représente le nombre de prédictions correctes (à la fois positives et négatives) par rapport au nombre total de prédictions. Cependant, cette métrique n'est pas toujours la meilleure pour mesurer la performance d'un modèle. En effet, dans le cas où les classes ne sont pas équilibrées, l'accuracy peut être trompeuse. Par exemple, si 90% des données appartiennent à la classe 1 et 10% à la classe 0, un modèle qui prédit toujours la classe 1 aura une accuracy de 90%.\n",
    "\n",
    "$$\n",
    "\\text{Accuracy} = \\frac{TP + TN}{TP + TN + FP + FN}\n",
    "$$"
   ],
   "metadata": {
    "collapsed": false
   },
   "id": "f113f2694cbf70b0"
  },
  {
   "cell_type": "markdown",
   "source": [
    "## Precision\n",
    "\n",
    "La precision est une métrique qui mesure la proportion de vrais positifs parmi les prédictions positives. Elle est utile lorsque le coût des faux positifs est élevé. Par exemple, dans le cas d'un modèle qui prédit si un email est un spam ou non, il est préférable d'avoir un faible taux de faux positifs (emails légitimes classés comme spam) même si cela signifie que certains spams seront classés comme légitimes.\n",
    "\n",
    "$$\n",
    "\\text{Précision} = \\frac{TP}{TP + FP}\n",
    "$$"
   ],
   "metadata": {
    "collapsed": false
   },
   "id": "e7c69be06dcbb93e"
  },
  {
   "cell_type": "markdown",
   "source": [
    "## Recall \n",
    "\n",
    "Le recall (ou rappel) est une métrique qui mesure la proportion de vrais positifs parmi les vrais positifs et les faux négatifs. Elle est utile lorsque le coût des faux négatifs est élevé. Par exemple, dans le cas d'un modèle qui prédit si un patient a une maladie ou non, il est préférable d'avoir un faible taux de faux négatifs (patients malades classés comme sains) même si cela signifie que certains patients sains seront classés comme malades.\n",
    "\n",
    "$$\n",
    "\\text{Recall} = \\frac{TP}{TP + FN}\n",
    "$$"
   ],
   "metadata": {
    "collapsed": false
   },
   "id": "528cde6748234085"
  },
  {
   "cell_type": "markdown",
   "source": [
    "## F1 Score\n",
    "\n",
    "Le F1 score est la moyenne harmonique de la precision et du recall. Il est utile lorsque les classes sont déséquilibrées. En effet, dans ce cas, l'accuracy n'est pas une bonne métrique de performance. Par exemple, si 90% des données appartiennent à la classe 1 et 10% à la classe 0, un modèle qui prédit toujours la classe 1 aura une accuracy de 90%. Cependant, le F1 score de ce modèle sera de 0. \n",
    "\n",
    "$$\n",
    "F1 = 2 \\times \\frac{Precision \\times Recall}{Precision + Recall}\n",
    "$$"
   ],
   "metadata": {
    "collapsed": false
   },
   "id": "9d93db0a4fa67b1f"
  },
  {
   "cell_type": "markdown",
   "source": [
    "## AUC-ROC \n",
    "\n",
    "L'AUC-ROC (Area Under the Receiver Operating Characteristic Curve) est la mesure de la capacité d'un modèle à distinguer entre les classes. ROC est une courbe de probabilité qui trace le taux de vrais positifs contre le taux de faux positifs à différents seuils de classification. \n",
    "\n",
    "Un modèle qui fait des prédictions parfaites aurait une AUC de 1, tandis qu'un modèle qui fait des prédictions aléatoires aurait une AUC de 0.5.\n",
    "\n",
    "L'AUC-ROC est particulièrement utile lorsque les classes sont déséquilibrées. Elle est insensible au déséquilibre des classes et se concentre sur la capacité du modèle à distinguer entre les classes. Cependant, si le coût des faux positifs est très élevé, il peut être trompeur."
   ],
   "metadata": {
    "collapsed": false
   },
   "id": "fdd2e0fb997ffc2c"
  },
  {
   "cell_type": "markdown",
   "source": [
    "## AUC PR\n",
    "\n",
    "L'AUC-PR est similaire à l'AUC-ROC mais se concentre sur la relation entre la précision (proportion de vrai positifs parmis les prédiction positives) et le recall (proportion de vrais positifs parmis les vrais cas positifs). \n",
    "\n",
    "Dans un contexte où les positifs (comme les spams dans un exemple de filtrage) sont rares, l'AUC-PR donne une meilleure indication de la performance du modèle. \n",
    "\n",
    "L'AUC-PR est préférable lorsque le déséquilibre des classe est un problème et que l'on s'intéresse davantage à la performance du modèle sur la classe minoritaire. Il est plus informatif que l'AUC-ROC dans les cas où les positifs sont beaucoup moins fréquents que les négatifs."
   ],
   "metadata": {
    "collapsed": false
   },
   "id": "a5f68b174414e205"
  },
  {
   "cell_type": "markdown",
   "source": [
    "## Choix appliqué au contexte "
   ],
   "metadata": {
    "collapsed": false
   },
   "id": "e7982437808d226a"
  },
  {
   "cell_type": "markdown",
   "source": [
    "Pour le problème de l'attrition des employés, qui est un problème de classification binaire (les employés quittent ou ne quittent pas l'entreprise) \n",
    "\n",
    "Il est important de prendre en compte le coût relatif des erreurs (faux positifs vs faux négatifs) et la distribution de la classe (équilibrée ou déséquilibrée).\n",
    "\n",
    "* Si le *coût d'un faux négatif* (ne pas identifier un employé qui est susceptible de quitter) est élevée car cela pourrait perturber les opérations de l'entreprise, entaîner la perte de talent clés ou nuire à la plannification des ressources, alors il est préférable de privilégier *le recall*.\n",
    "\n",
    "* Si le coût d'un faux positif (croire à tort qu'un employé va partir) est élevée, ce qui conduit à un problème éthique et conduire à des dépenses inutiles en interventions de rétention ou à une ambiance de méfiance, alors il est préférable de privilégier la précision. \n",
    "\n",
    "Dans le contexte de notre problème, ces deux types d'erreurs sont importants, le F1-Score peut être un bon choix car il équilibre la précision et le recall. Cependant nos données étant déséquilibrées, les mesures telles que la précision, le recall et le F1-Score peuvent ne pas refléter fidèlement la performance de notre modèle.\n",
    "\n",
    "Dans ce cas L'AUC-ROC ou l'AUC-PR pourraient être plus appropriées. L'AUC-ROC est moins sensible aux déséquilibres de classe, mais si la classe positive (les employés qui quittent est beaucoup plus petite, l'AUC-PR peut être préférable car elle se concentre sur la classe minoritaire. \n",
    "\n",
    "Les autres métriques sont évidemment utiles pour évaluer la performance des modèles, mais prendrons en priorité l'AUC-PR et le F1-Score pour évaluer la performance de nos modèles."
   ],
   "metadata": {
    "collapsed": false
   },
   "id": "f834eb0afb473d4e"
  },
  {
   "cell_type": "markdown",
   "source": [
    "# Choix du modèle "
   ],
   "metadata": {
    "collapsed": false
   },
   "id": "a414e98f27dc9f21"
  },
  {
   "cell_type": "markdown",
   "source": [
    "Afin de choisir le modèle le plus adapté à notre problème de classification, nous allons comparer les performances de plusieurs modèles de classification. Pour réaliser cela, nous allons utiliser la bibliothèque pycaret qui permet de comparer les performances de plusieurs modèles de classification. Cette bibliothèque va lancer un processus d'entraînement et de test sur plusieurs modèles de classification et nous donnera les performances de chacun de ces modèles."
   ],
   "metadata": {
    "collapsed": false
   },
   "id": "c95f2395a70b26d6"
  },
  {
   "cell_type": "code",
   "outputs": [],
   "source": [
    "def auc_pr_score(y_true, y_pred):\n",
    "    return average_precision_score(y_true, y_pred)"
   ],
   "metadata": {
    "collapsed": false,
    "ExecuteTime": {
     "end_time": "2024-02-07T20:53:34.274956200Z",
     "start_time": "2024-02-07T20:53:34.267382500Z"
    }
   },
   "id": "b3072cd01fc42163",
   "execution_count": 13
  },
  {
   "cell_type": "code",
   "outputs": [
    {
     "data": {
      "text/plain": "<pandas.io.formats.style.Styler at 0x1cc0ba30c10>",
      "text/html": "<style type=\"text/css\">\n#T_fcf51_row8_col1 {\n  background-color: lightgreen;\n}\n</style>\n<table id=\"T_fcf51\">\n  <thead>\n    <tr>\n      <th class=\"blank level0\" >&nbsp;</th>\n      <th id=\"T_fcf51_level0_col0\" class=\"col_heading level0 col0\" >Description</th>\n      <th id=\"T_fcf51_level0_col1\" class=\"col_heading level0 col1\" >Value</th>\n    </tr>\n  </thead>\n  <tbody>\n    <tr>\n      <th id=\"T_fcf51_level0_row0\" class=\"row_heading level0 row0\" >0</th>\n      <td id=\"T_fcf51_row0_col0\" class=\"data row0 col0\" >Session id</td>\n      <td id=\"T_fcf51_row0_col1\" class=\"data row0 col1\" >3291</td>\n    </tr>\n    <tr>\n      <th id=\"T_fcf51_level0_row1\" class=\"row_heading level0 row1\" >1</th>\n      <td id=\"T_fcf51_row1_col0\" class=\"data row1 col0\" >Target</td>\n      <td id=\"T_fcf51_row1_col1\" class=\"data row1 col1\" >Attrition</td>\n    </tr>\n    <tr>\n      <th id=\"T_fcf51_level0_row2\" class=\"row_heading level0 row2\" >2</th>\n      <td id=\"T_fcf51_row2_col0\" class=\"data row2 col0\" >Target type</td>\n      <td id=\"T_fcf51_row2_col1\" class=\"data row2 col1\" >Binary</td>\n    </tr>\n    <tr>\n      <th id=\"T_fcf51_level0_row3\" class=\"row_heading level0 row3\" >3</th>\n      <td id=\"T_fcf51_row3_col0\" class=\"data row3 col0\" >Original data shape</td>\n      <td id=\"T_fcf51_row3_col1\" class=\"data row3 col1\" >(4410, 8)</td>\n    </tr>\n    <tr>\n      <th id=\"T_fcf51_level0_row4\" class=\"row_heading level0 row4\" >4</th>\n      <td id=\"T_fcf51_row4_col0\" class=\"data row4 col0\" >Transformed data shape</td>\n      <td id=\"T_fcf51_row4_col1\" class=\"data row4 col1\" >(4410, 8)</td>\n    </tr>\n    <tr>\n      <th id=\"T_fcf51_level0_row5\" class=\"row_heading level0 row5\" >5</th>\n      <td id=\"T_fcf51_row5_col0\" class=\"data row5 col0\" >Transformed train set shape</td>\n      <td id=\"T_fcf51_row5_col1\" class=\"data row5 col1\" >(3087, 8)</td>\n    </tr>\n    <tr>\n      <th id=\"T_fcf51_level0_row6\" class=\"row_heading level0 row6\" >6</th>\n      <td id=\"T_fcf51_row6_col0\" class=\"data row6 col0\" >Transformed test set shape</td>\n      <td id=\"T_fcf51_row6_col1\" class=\"data row6 col1\" >(1323, 8)</td>\n    </tr>\n    <tr>\n      <th id=\"T_fcf51_level0_row7\" class=\"row_heading level0 row7\" >7</th>\n      <td id=\"T_fcf51_row7_col0\" class=\"data row7 col0\" >Numeric features</td>\n      <td id=\"T_fcf51_row7_col1\" class=\"data row7 col1\" >7</td>\n    </tr>\n    <tr>\n      <th id=\"T_fcf51_level0_row8\" class=\"row_heading level0 row8\" >8</th>\n      <td id=\"T_fcf51_row8_col0\" class=\"data row8 col0\" >Preprocess</td>\n      <td id=\"T_fcf51_row8_col1\" class=\"data row8 col1\" >True</td>\n    </tr>\n    <tr>\n      <th id=\"T_fcf51_level0_row9\" class=\"row_heading level0 row9\" >9</th>\n      <td id=\"T_fcf51_row9_col0\" class=\"data row9 col0\" >Imputation type</td>\n      <td id=\"T_fcf51_row9_col1\" class=\"data row9 col1\" >simple</td>\n    </tr>\n    <tr>\n      <th id=\"T_fcf51_level0_row10\" class=\"row_heading level0 row10\" >10</th>\n      <td id=\"T_fcf51_row10_col0\" class=\"data row10 col0\" >Numeric imputation</td>\n      <td id=\"T_fcf51_row10_col1\" class=\"data row10 col1\" >mean</td>\n    </tr>\n    <tr>\n      <th id=\"T_fcf51_level0_row11\" class=\"row_heading level0 row11\" >11</th>\n      <td id=\"T_fcf51_row11_col0\" class=\"data row11 col0\" >Categorical imputation</td>\n      <td id=\"T_fcf51_row11_col1\" class=\"data row11 col1\" >mode</td>\n    </tr>\n    <tr>\n      <th id=\"T_fcf51_level0_row12\" class=\"row_heading level0 row12\" >12</th>\n      <td id=\"T_fcf51_row12_col0\" class=\"data row12 col0\" >Fold Generator</td>\n      <td id=\"T_fcf51_row12_col1\" class=\"data row12 col1\" >StratifiedKFold</td>\n    </tr>\n    <tr>\n      <th id=\"T_fcf51_level0_row13\" class=\"row_heading level0 row13\" >13</th>\n      <td id=\"T_fcf51_row13_col0\" class=\"data row13 col0\" >Fold Number</td>\n      <td id=\"T_fcf51_row13_col1\" class=\"data row13 col1\" >10</td>\n    </tr>\n    <tr>\n      <th id=\"T_fcf51_level0_row14\" class=\"row_heading level0 row14\" >14</th>\n      <td id=\"T_fcf51_row14_col0\" class=\"data row14 col0\" >CPU Jobs</td>\n      <td id=\"T_fcf51_row14_col1\" class=\"data row14 col1\" >-1</td>\n    </tr>\n    <tr>\n      <th id=\"T_fcf51_level0_row15\" class=\"row_heading level0 row15\" >15</th>\n      <td id=\"T_fcf51_row15_col0\" class=\"data row15 col0\" >Use GPU</td>\n      <td id=\"T_fcf51_row15_col1\" class=\"data row15 col1\" >False</td>\n    </tr>\n    <tr>\n      <th id=\"T_fcf51_level0_row16\" class=\"row_heading level0 row16\" >16</th>\n      <td id=\"T_fcf51_row16_col0\" class=\"data row16 col0\" >Log Experiment</td>\n      <td id=\"T_fcf51_row16_col1\" class=\"data row16 col1\" >False</td>\n    </tr>\n    <tr>\n      <th id=\"T_fcf51_level0_row17\" class=\"row_heading level0 row17\" >17</th>\n      <td id=\"T_fcf51_row17_col0\" class=\"data row17 col0\" >Experiment Name</td>\n      <td id=\"T_fcf51_row17_col1\" class=\"data row17 col1\" >clf-default-name</td>\n    </tr>\n    <tr>\n      <th id=\"T_fcf51_level0_row18\" class=\"row_heading level0 row18\" >18</th>\n      <td id=\"T_fcf51_row18_col0\" class=\"data row18 col0\" >USI</td>\n      <td id=\"T_fcf51_row18_col1\" class=\"data row18 col1\" >71a5</td>\n    </tr>\n  </tbody>\n</table>\n"
     },
     "metadata": {},
     "output_type": "display_data"
    },
    {
     "data": {
      "text/plain": "                                                                    \n                                                                    \nInitiated  . . . . . . . . . . . . . . . . . .              21:57:05\nStatus     . . . . . . . . . . . . . . . . . .  Loading Dependencies\nEstimator  . . . . . . . . . . . . . . . . . .     Compiling Library",
      "text/html": "<div>\n<style scoped>\n    .dataframe tbody tr th:only-of-type {\n        vertical-align: middle;\n    }\n\n    .dataframe tbody tr th {\n        vertical-align: top;\n    }\n\n    .dataframe thead th {\n        text-align: right;\n    }\n</style>\n<table border=\"1\" class=\"dataframe\">\n  <thead>\n    <tr style=\"text-align: right;\">\n      <th></th>\n      <th></th>\n      <th></th>\n    </tr>\n    <tr>\n      <th></th>\n      <th></th>\n      <th></th>\n    </tr>\n  </thead>\n  <tbody>\n    <tr>\n      <th>Initiated</th>\n      <td>. . . . . . . . . . . . . . . . . .</td>\n      <td>21:57:05</td>\n    </tr>\n    <tr>\n      <th>Status</th>\n      <td>. . . . . . . . . . . . . . . . . .</td>\n      <td>Loading Dependencies</td>\n    </tr>\n    <tr>\n      <th>Estimator</th>\n      <td>. . . . . . . . . . . . . . . . . .</td>\n      <td>Compiling Library</td>\n    </tr>\n  </tbody>\n</table>\n</div>"
     },
     "metadata": {},
     "output_type": "display_data"
    },
    {
     "data": {
      "text/plain": "<IPython.core.display.HTML object>",
      "text/html": ""
     },
     "metadata": {},
     "output_type": "display_data"
    },
    {
     "data": {
      "text/plain": "<pandas.io.formats.style.Styler at 0x1cc0108c3d0>",
      "text/html": "<style type=\"text/css\">\n#T_e76ce th {\n  text-align: left;\n}\n#T_e76ce_row0_col0, #T_e76ce_row0_col4, #T_e76ce_row1_col0, #T_e76ce_row1_col1, #T_e76ce_row1_col2, #T_e76ce_row1_col3, #T_e76ce_row1_col5, #T_e76ce_row1_col6, #T_e76ce_row1_col7, #T_e76ce_row1_col8, #T_e76ce_row2_col0, #T_e76ce_row2_col1, #T_e76ce_row2_col2, #T_e76ce_row2_col3, #T_e76ce_row2_col4, #T_e76ce_row2_col5, #T_e76ce_row2_col6, #T_e76ce_row2_col7, #T_e76ce_row2_col8, #T_e76ce_row3_col0, #T_e76ce_row3_col1, #T_e76ce_row3_col2, #T_e76ce_row3_col3, #T_e76ce_row3_col4, #T_e76ce_row3_col5, #T_e76ce_row3_col6, #T_e76ce_row3_col7, #T_e76ce_row3_col8, #T_e76ce_row4_col0, #T_e76ce_row4_col1, #T_e76ce_row4_col2, #T_e76ce_row4_col3, #T_e76ce_row4_col4, #T_e76ce_row4_col5, #T_e76ce_row4_col6, #T_e76ce_row4_col7, #T_e76ce_row4_col8, #T_e76ce_row5_col0, #T_e76ce_row5_col1, #T_e76ce_row5_col2, #T_e76ce_row5_col3, #T_e76ce_row5_col4, #T_e76ce_row5_col5, #T_e76ce_row5_col6, #T_e76ce_row5_col7, #T_e76ce_row5_col8, #T_e76ce_row6_col0, #T_e76ce_row6_col1, #T_e76ce_row6_col2, #T_e76ce_row6_col3, #T_e76ce_row6_col4, #T_e76ce_row6_col5, #T_e76ce_row6_col6, #T_e76ce_row6_col7, #T_e76ce_row6_col8, #T_e76ce_row7_col0, #T_e76ce_row7_col1, #T_e76ce_row7_col2, #T_e76ce_row7_col3, #T_e76ce_row7_col4, #T_e76ce_row7_col5, #T_e76ce_row7_col6, #T_e76ce_row7_col7, #T_e76ce_row7_col8, #T_e76ce_row8_col0, #T_e76ce_row8_col1, #T_e76ce_row8_col2, #T_e76ce_row8_col3, #T_e76ce_row8_col4, #T_e76ce_row8_col5, #T_e76ce_row8_col6, #T_e76ce_row8_col7, #T_e76ce_row8_col8, #T_e76ce_row9_col0, #T_e76ce_row9_col1, #T_e76ce_row9_col2, #T_e76ce_row9_col3, #T_e76ce_row9_col4, #T_e76ce_row9_col5, #T_e76ce_row9_col6, #T_e76ce_row9_col7, #T_e76ce_row9_col8, #T_e76ce_row10_col0, #T_e76ce_row10_col1, #T_e76ce_row10_col2, #T_e76ce_row10_col3, #T_e76ce_row10_col4, #T_e76ce_row10_col5, #T_e76ce_row10_col6, #T_e76ce_row10_col7, #T_e76ce_row10_col8, #T_e76ce_row11_col0, #T_e76ce_row11_col1, #T_e76ce_row11_col2, #T_e76ce_row11_col3, #T_e76ce_row11_col4, #T_e76ce_row11_col5, #T_e76ce_row11_col6, #T_e76ce_row11_col7, #T_e76ce_row11_col8, #T_e76ce_row12_col0, #T_e76ce_row12_col1, #T_e76ce_row12_col2, #T_e76ce_row12_col3, #T_e76ce_row12_col4, #T_e76ce_row12_col5, #T_e76ce_row12_col6, #T_e76ce_row12_col7, #T_e76ce_row12_col8, #T_e76ce_row13_col0, #T_e76ce_row13_col1, #T_e76ce_row13_col2, #T_e76ce_row13_col3, #T_e76ce_row13_col4, #T_e76ce_row13_col5, #T_e76ce_row13_col6, #T_e76ce_row13_col7, #T_e76ce_row13_col8 {\n  text-align: left;\n}\n#T_e76ce_row0_col1, #T_e76ce_row0_col2, #T_e76ce_row0_col3, #T_e76ce_row0_col5, #T_e76ce_row0_col6, #T_e76ce_row0_col7, #T_e76ce_row0_col8, #T_e76ce_row1_col4 {\n  text-align: left;\n  background-color: yellow;\n}\n#T_e76ce_row0_col9, #T_e76ce_row1_col9, #T_e76ce_row2_col9, #T_e76ce_row3_col9, #T_e76ce_row4_col9, #T_e76ce_row7_col9, #T_e76ce_row8_col9, #T_e76ce_row9_col9, #T_e76ce_row11_col9 {\n  text-align: left;\n  background-color: lightgrey;\n}\n#T_e76ce_row5_col9, #T_e76ce_row6_col9, #T_e76ce_row10_col9, #T_e76ce_row12_col9, #T_e76ce_row13_col9 {\n  text-align: left;\n  background-color: yellow;\n  background-color: lightgrey;\n}\n</style>\n<table id=\"T_e76ce\">\n  <thead>\n    <tr>\n      <th class=\"blank level0\" >&nbsp;</th>\n      <th id=\"T_e76ce_level0_col0\" class=\"col_heading level0 col0\" >Model</th>\n      <th id=\"T_e76ce_level0_col1\" class=\"col_heading level0 col1\" >Accuracy</th>\n      <th id=\"T_e76ce_level0_col2\" class=\"col_heading level0 col2\" >AUC</th>\n      <th id=\"T_e76ce_level0_col3\" class=\"col_heading level0 col3\" >Recall</th>\n      <th id=\"T_e76ce_level0_col4\" class=\"col_heading level0 col4\" >Prec.</th>\n      <th id=\"T_e76ce_level0_col5\" class=\"col_heading level0 col5\" >F1</th>\n      <th id=\"T_e76ce_level0_col6\" class=\"col_heading level0 col6\" >Kappa</th>\n      <th id=\"T_e76ce_level0_col7\" class=\"col_heading level0 col7\" >MCC</th>\n      <th id=\"T_e76ce_level0_col8\" class=\"col_heading level0 col8\" >AUC-PR</th>\n      <th id=\"T_e76ce_level0_col9\" class=\"col_heading level0 col9\" >TT (Sec)</th>\n    </tr>\n  </thead>\n  <tbody>\n    <tr>\n      <th id=\"T_e76ce_level0_row0\" class=\"row_heading level0 row0\" >et</th>\n      <td id=\"T_e76ce_row0_col0\" class=\"data row0 col0\" >Extra Trees Classifier</td>\n      <td id=\"T_e76ce_row0_col1\" class=\"data row0 col1\" >0.9650</td>\n      <td id=\"T_e76ce_row0_col2\" class=\"data row0 col2\" >0.9773</td>\n      <td id=\"T_e76ce_row0_col3\" class=\"data row0 col3\" >0.8434</td>\n      <td id=\"T_e76ce_row0_col4\" class=\"data row0 col4\" >0.9343</td>\n      <td id=\"T_e76ce_row0_col5\" class=\"data row0 col5\" >0.8858</td>\n      <td id=\"T_e76ce_row0_col6\" class=\"data row0 col6\" >0.8652</td>\n      <td id=\"T_e76ce_row0_col7\" class=\"data row0 col7\" >0.8673</td>\n      <td id=\"T_e76ce_row0_col8\" class=\"data row0 col8\" >0.8139</td>\n      <td id=\"T_e76ce_row0_col9\" class=\"data row0 col9\" >0.0350</td>\n    </tr>\n    <tr>\n      <th id=\"T_e76ce_level0_row1\" class=\"row_heading level0 row1\" >rf</th>\n      <td id=\"T_e76ce_row1_col0\" class=\"data row1 col0\" >Random Forest Classifier</td>\n      <td id=\"T_e76ce_row1_col1\" class=\"data row1 col1\" >0.9572</td>\n      <td id=\"T_e76ce_row1_col2\" class=\"data row1 col2\" >0.9701</td>\n      <td id=\"T_e76ce_row1_col3\" class=\"data row1 col3\" >0.7892</td>\n      <td id=\"T_e76ce_row1_col4\" class=\"data row1 col4\" >0.9353</td>\n      <td id=\"T_e76ce_row1_col5\" class=\"data row1 col5\" >0.8547</td>\n      <td id=\"T_e76ce_row1_col6\" class=\"data row1 col6\" >0.8300</td>\n      <td id=\"T_e76ce_row1_col7\" class=\"data row1 col7\" >0.8349</td>\n      <td id=\"T_e76ce_row1_col8\" class=\"data row1 col8\" >0.7730</td>\n      <td id=\"T_e76ce_row1_col9\" class=\"data row1 col9\" >0.0390</td>\n    </tr>\n    <tr>\n      <th id=\"T_e76ce_level0_row2\" class=\"row_heading level0 row2\" >dt</th>\n      <td id=\"T_e76ce_row2_col0\" class=\"data row2 col0\" >Decision Tree Classifier</td>\n      <td id=\"T_e76ce_row2_col1\" class=\"data row2 col1\" >0.9213</td>\n      <td id=\"T_e76ce_row2_col2\" class=\"data row2 col2\" >0.8646</td>\n      <td id=\"T_e76ce_row2_col3\" class=\"data row2 col3\" >0.7571</td>\n      <td id=\"T_e76ce_row2_col4\" class=\"data row2 col4\" >0.7611</td>\n      <td id=\"T_e76ce_row2_col5\" class=\"data row2 col5\" >0.7570</td>\n      <td id=\"T_e76ce_row2_col6\" class=\"data row2 col6\" >0.7101</td>\n      <td id=\"T_e76ce_row2_col7\" class=\"data row2 col7\" >0.7115</td>\n      <td id=\"T_e76ce_row2_col8\" class=\"data row2 col8\" >0.6156</td>\n      <td id=\"T_e76ce_row2_col9\" class=\"data row2 col9\" >0.0060</td>\n    </tr>\n    <tr>\n      <th id=\"T_e76ce_level0_row3\" class=\"row_heading level0 row3\" >lightgbm</th>\n      <td id=\"T_e76ce_row3_col0\" class=\"data row3 col0\" >Light Gradient Boosting Machine</td>\n      <td id=\"T_e76ce_row3_col1\" class=\"data row3 col1\" >0.9035</td>\n      <td id=\"T_e76ce_row3_col2\" class=\"data row3 col2\" >0.9393</td>\n      <td id=\"T_e76ce_row3_col3\" class=\"data row3 col3\" >0.5384</td>\n      <td id=\"T_e76ce_row3_col4\" class=\"data row3 col4\" >0.7948</td>\n      <td id=\"T_e76ce_row3_col5\" class=\"data row3 col5\" >0.6398</td>\n      <td id=\"T_e76ce_row3_col6\" class=\"data row3 col6\" >0.5870</td>\n      <td id=\"T_e76ce_row3_col7\" class=\"data row3 col7\" >0.6028</td>\n      <td id=\"T_e76ce_row3_col8\" class=\"data row3 col8\" >0.5073</td>\n      <td id=\"T_e76ce_row3_col9\" class=\"data row3 col9\" >0.1300</td>\n    </tr>\n    <tr>\n      <th id=\"T_e76ce_level0_row4\" class=\"row_heading level0 row4\" >gbc</th>\n      <td id=\"T_e76ce_row4_col0\" class=\"data row4 col0\" >Gradient Boosting Classifier</td>\n      <td id=\"T_e76ce_row4_col1\" class=\"data row4 col1\" >0.8617</td>\n      <td id=\"T_e76ce_row4_col2\" class=\"data row4 col2\" >0.8427</td>\n      <td id=\"T_e76ce_row4_col3\" class=\"data row4 col3\" >0.2892</td>\n      <td id=\"T_e76ce_row4_col4\" class=\"data row4 col4\" >0.6653</td>\n      <td id=\"T_e76ce_row4_col5\" class=\"data row4 col5\" >0.4019</td>\n      <td id=\"T_e76ce_row4_col6\" class=\"data row4 col6\" >0.3375</td>\n      <td id=\"T_e76ce_row4_col7\" class=\"data row4 col7\" >0.3756</td>\n      <td id=\"T_e76ce_row4_col8\" class=\"data row4 col8\" >0.3104</td>\n      <td id=\"T_e76ce_row4_col9\" class=\"data row4 col9\" >0.0290</td>\n    </tr>\n    <tr>\n      <th id=\"T_e76ce_level0_row5\" class=\"row_heading level0 row5\" >nb</th>\n      <td id=\"T_e76ce_row5_col0\" class=\"data row5 col0\" >Naive Bayes</td>\n      <td id=\"T_e76ce_row5_col1\" class=\"data row5 col1\" >0.8542</td>\n      <td id=\"T_e76ce_row5_col2\" class=\"data row5 col2\" >0.7561</td>\n      <td id=\"T_e76ce_row5_col3\" class=\"data row5 col3\" >0.3273</td>\n      <td id=\"T_e76ce_row5_col4\" class=\"data row5 col4\" >0.6043</td>\n      <td id=\"T_e76ce_row5_col5\" class=\"data row5 col5\" >0.4203</td>\n      <td id=\"T_e76ce_row5_col6\" class=\"data row5 col6\" >0.3452</td>\n      <td id=\"T_e76ce_row5_col7\" class=\"data row5 col7\" >0.3688</td>\n      <td id=\"T_e76ce_row5_col8\" class=\"data row5 col8\" >0.3061</td>\n      <td id=\"T_e76ce_row5_col9\" class=\"data row5 col9\" >0.0050</td>\n    </tr>\n    <tr>\n      <th id=\"T_e76ce_level0_row6\" class=\"row_heading level0 row6\" >qda</th>\n      <td id=\"T_e76ce_row6_col0\" class=\"data row6 col0\" >Quadratic Discriminant Analysis</td>\n      <td id=\"T_e76ce_row6_col1\" class=\"data row6 col1\" >0.8533</td>\n      <td id=\"T_e76ce_row6_col2\" class=\"data row6 col2\" >0.7606</td>\n      <td id=\"T_e76ce_row6_col3\" class=\"data row6 col3\" >0.2972</td>\n      <td id=\"T_e76ce_row6_col4\" class=\"data row6 col4\" >0.6000</td>\n      <td id=\"T_e76ce_row6_col5\" class=\"data row6 col5\" >0.3941</td>\n      <td id=\"T_e76ce_row6_col6\" class=\"data row6 col6\" >0.3214</td>\n      <td id=\"T_e76ce_row6_col7\" class=\"data row6 col7\" >0.3489</td>\n      <td id=\"T_e76ce_row6_col8\" class=\"data row6 col8\" >0.2919</td>\n      <td id=\"T_e76ce_row6_col9\" class=\"data row6 col9\" >0.0050</td>\n    </tr>\n    <tr>\n      <th id=\"T_e76ce_level0_row7\" class=\"row_heading level0 row7\" >ada</th>\n      <td id=\"T_e76ce_row7_col0\" class=\"data row7 col0\" >Ada Boost Classifier</td>\n      <td id=\"T_e76ce_row7_col1\" class=\"data row7 col1\" >0.8568</td>\n      <td id=\"T_e76ce_row7_col2\" class=\"data row7 col2\" >0.8039</td>\n      <td id=\"T_e76ce_row7_col3\" class=\"data row7 col3\" >0.2571</td>\n      <td id=\"T_e76ce_row7_col4\" class=\"data row7 col4\" >0.6485</td>\n      <td id=\"T_e76ce_row7_col5\" class=\"data row7 col5\" >0.3651</td>\n      <td id=\"T_e76ce_row7_col6\" class=\"data row7 col6\" >0.3014</td>\n      <td id=\"T_e76ce_row7_col7\" class=\"data row7 col7\" >0.3439</td>\n      <td id=\"T_e76ce_row7_col8\" class=\"data row7 col8\" >0.2875</td>\n      <td id=\"T_e76ce_row7_col9\" class=\"data row7 col9\" >0.0180</td>\n    </tr>\n    <tr>\n      <th id=\"T_e76ce_level0_row8\" class=\"row_heading level0 row8\" >knn</th>\n      <td id=\"T_e76ce_row8_col0\" class=\"data row8 col0\" >K Neighbors Classifier</td>\n      <td id=\"T_e76ce_row8_col1\" class=\"data row8 col1\" >0.8461</td>\n      <td id=\"T_e76ce_row8_col2\" class=\"data row8 col2\" >0.8183</td>\n      <td id=\"T_e76ce_row8_col3\" class=\"data row8 col3\" >0.3213</td>\n      <td id=\"T_e76ce_row8_col4\" class=\"data row8 col4\" >0.5470</td>\n      <td id=\"T_e76ce_row8_col5\" class=\"data row8 col5\" >0.4032</td>\n      <td id=\"T_e76ce_row8_col6\" class=\"data row8 col6\" >0.3215</td>\n      <td id=\"T_e76ce_row8_col7\" class=\"data row8 col7\" >0.3375</td>\n      <td id=\"T_e76ce_row8_col8\" class=\"data row8 col8\" >0.2859</td>\n      <td id=\"T_e76ce_row8_col9\" class=\"data row8 col9\" >0.0100</td>\n    </tr>\n    <tr>\n      <th id=\"T_e76ce_level0_row9\" class=\"row_heading level0 row9\" >lr</th>\n      <td id=\"T_e76ce_row9_col0\" class=\"data row9 col0\" >Logistic Regression</td>\n      <td id=\"T_e76ce_row9_col1\" class=\"data row9 col1\" >0.8494</td>\n      <td id=\"T_e76ce_row9_col2\" class=\"data row9 col2\" >0.7731</td>\n      <td id=\"T_e76ce_row9_col3\" class=\"data row9 col3\" >0.1668</td>\n      <td id=\"T_e76ce_row9_col4\" class=\"data row9 col4\" >0.6250</td>\n      <td id=\"T_e76ce_row9_col5\" class=\"data row9 col5\" >0.2599</td>\n      <td id=\"T_e76ce_row9_col6\" class=\"data row9 col6\" >0.2076</td>\n      <td id=\"T_e76ce_row9_col7\" class=\"data row9 col7\" >0.2651</td>\n      <td id=\"T_e76ce_row9_col8\" class=\"data row9 col8\" >0.2443</td>\n      <td id=\"T_e76ce_row9_col9\" class=\"data row9 col9\" >0.0100</td>\n    </tr>\n    <tr>\n      <th id=\"T_e76ce_level0_row10\" class=\"row_heading level0 row10\" >lda</th>\n      <td id=\"T_e76ce_row10_col0\" class=\"data row10 col0\" >Linear Discriminant Analysis</td>\n      <td id=\"T_e76ce_row10_col1\" class=\"data row10 col1\" >0.8455</td>\n      <td id=\"T_e76ce_row10_col2\" class=\"data row10 col2\" >0.7727</td>\n      <td id=\"T_e76ce_row10_col3\" class=\"data row10 col3\" >0.1547</td>\n      <td id=\"T_e76ce_row10_col4\" class=\"data row10 col4\" >0.5895</td>\n      <td id=\"T_e76ce_row10_col5\" class=\"data row10 col5\" >0.2417</td>\n      <td id=\"T_e76ce_row10_col6\" class=\"data row10 col6\" >0.1877</td>\n      <td id=\"T_e76ce_row10_col7\" class=\"data row10 col7\" >0.2417</td>\n      <td id=\"T_e76ce_row10_col8\" class=\"data row10 col8\" >0.2321</td>\n      <td id=\"T_e76ce_row10_col9\" class=\"data row10 col9\" >0.0050</td>\n    </tr>\n    <tr>\n      <th id=\"T_e76ce_level0_row11\" class=\"row_heading level0 row11\" >svm</th>\n      <td id=\"T_e76ce_row11_col0\" class=\"data row11 col0\" >SVM - Linear Kernel</td>\n      <td id=\"T_e76ce_row11_col1\" class=\"data row11 col1\" >0.7953</td>\n      <td id=\"T_e76ce_row11_col2\" class=\"data row11 col2\" >0.0000</td>\n      <td id=\"T_e76ce_row11_col3\" class=\"data row11 col3\" >0.1927</td>\n      <td id=\"T_e76ce_row11_col4\" class=\"data row11 col4\" >0.3031</td>\n      <td id=\"T_e76ce_row11_col5\" class=\"data row11 col5\" >0.1965</td>\n      <td id=\"T_e76ce_row11_col6\" class=\"data row11 col6\" >0.1054</td>\n      <td id=\"T_e76ce_row11_col7\" class=\"data row11 col7\" >0.1231</td>\n      <td id=\"T_e76ce_row11_col8\" class=\"data row11 col8\" >0.1888</td>\n      <td id=\"T_e76ce_row11_col9\" class=\"data row11 col9\" >0.0060</td>\n    </tr>\n    <tr>\n      <th id=\"T_e76ce_level0_row12\" class=\"row_heading level0 row12\" >ridge</th>\n      <td id=\"T_e76ce_row12_col0\" class=\"data row12 col0\" >Ridge Classifier</td>\n      <td id=\"T_e76ce_row12_col1\" class=\"data row12 col1\" >0.8422</td>\n      <td id=\"T_e76ce_row12_col2\" class=\"data row12 col2\" >0.0000</td>\n      <td id=\"T_e76ce_row12_col3\" class=\"data row12 col3\" >0.0300</td>\n      <td id=\"T_e76ce_row12_col4\" class=\"data row12 col4\" >0.7333</td>\n      <td id=\"T_e76ce_row12_col5\" class=\"data row12 col5\" >0.0574</td>\n      <td id=\"T_e76ce_row12_col6\" class=\"data row12 col6\" >0.0463</td>\n      <td id=\"T_e76ce_row12_col7\" class=\"data row12 col7\" >0.1273</td>\n      <td id=\"T_e76ce_row12_col8\" class=\"data row12 col8\" >0.1818</td>\n      <td id=\"T_e76ce_row12_col9\" class=\"data row12 col9\" >0.0050</td>\n    </tr>\n    <tr>\n      <th id=\"T_e76ce_level0_row13\" class=\"row_heading level0 row13\" >dummy</th>\n      <td id=\"T_e76ce_row13_col0\" class=\"data row13 col0\" >Dummy Classifier</td>\n      <td id=\"T_e76ce_row13_col1\" class=\"data row13 col1\" >0.8387</td>\n      <td id=\"T_e76ce_row13_col2\" class=\"data row13 col2\" >0.5000</td>\n      <td id=\"T_e76ce_row13_col3\" class=\"data row13 col3\" >0.0000</td>\n      <td id=\"T_e76ce_row13_col4\" class=\"data row13 col4\" >0.0000</td>\n      <td id=\"T_e76ce_row13_col5\" class=\"data row13 col5\" >0.0000</td>\n      <td id=\"T_e76ce_row13_col6\" class=\"data row13 col6\" >0.0000</td>\n      <td id=\"T_e76ce_row13_col7\" class=\"data row13 col7\" >0.0000</td>\n      <td id=\"T_e76ce_row13_col8\" class=\"data row13 col8\" >0.1613</td>\n      <td id=\"T_e76ce_row13_col9\" class=\"data row13 col9\" >0.0050</td>\n    </tr>\n  </tbody>\n</table>\n"
     },
     "metadata": {},
     "output_type": "display_data"
    }
   ],
   "source": [
    "clf = setup(data=dataset, target='Attrition')\n",
    "add_metric('AUC-PR', 'AUC-PR', auc_pr_score, greater_is_better=True)\n",
    "best_model = compare_models(sort='AUC-PR')"
   ],
   "metadata": {
    "collapsed": false,
    "ExecuteTime": {
     "end_time": "2024-02-07T20:57:10.479241500Z",
     "start_time": "2024-02-07T20:57:04.626534800Z"
    }
   },
   "id": "ad8b5d39d30cef3a",
   "execution_count": 18
  },
  {
   "cell_type": "code",
   "outputs": [
    {
     "name": "stdout",
     "output_type": "stream",
     "text": [
      "              precision    recall  f1-score   support\n",
      "\n",
      "           0       0.97      0.99      0.98      1115\n",
      "           1       0.96      0.84      0.89       208\n",
      "\n",
      "    accuracy                           0.97      1323\n",
      "   macro avg       0.97      0.92      0.94      1323\n",
      "weighted avg       0.97      0.97      0.97      1323\n",
      "\n",
      "[[1108    7]\n",
      " [  34  174]]\n",
      "0.9690098261526833\n",
      "0.8298853139026777\n",
      "0.8298853139026777\n"
     ]
    }
   ],
   "source": [
    "# Extra Trees Classifier with sci-kit learn\n",
    "\n",
    "from sklearn.ensemble import ExtraTreesClassifier\n",
    "from sklearn.model_selection import train_test_split\n",
    "from sklearn.metrics import classification_report, confusion_matrix, accuracy_score, average_precision_score\n",
    "\n",
    "X_train, X_test, y_train, y_test = train_test_split(X, y, test_size=0.3, random_state=42)\n",
    "\n",
    "model = ExtraTreesClassifier()\n",
    "model.fit(X_train, y_train)\n",
    "y_pred = model.predict(X_test)\n",
    "\n",
    "print(classification_report(y_test, y_pred))\n",
    "print(confusion_matrix(y_test, y_pred))\n",
    "print(accuracy_score(y_test, y_pred))\n",
    "print(average_precision_score(y_test, y_pred))\n",
    "\n",
    "# Print auc-pr score\n",
    "print(auc_pr_score(y_test, y_pred))"
   ],
   "metadata": {
    "collapsed": false,
    "ExecuteTime": {
     "end_time": "2024-02-07T20:59:38.962089900Z",
     "start_time": "2024-02-07T20:59:38.755799400Z"
    }
   },
   "id": "43c7a7e71f56fff6",
   "execution_count": 19
  },
  {
   "cell_type": "code",
   "outputs": [
    {
     "data": {
      "text/plain": "{'bootstrap': False,\n 'max_depth': 20,\n 'max_features': 'sqrt',\n 'min_samples_leaf': 1,\n 'min_samples_split': 2,\n 'n_estimators': 150}"
     },
     "execution_count": 21,
     "metadata": {},
     "output_type": "execute_result"
    }
   ],
   "source": [
    "# Optimize model with grid search cv \n",
    "\n",
    "from sklearn.model_selection import GridSearchCV\n",
    "from sklearn.metrics import make_scorer, average_precision_score\n",
    "auc_pr_scorer = make_scorer(average_precision_score , needs_proba=True)\n",
    "param_grid = {\n",
    "    'n_estimators': [50, 100, 150, 200],\n",
    "    'max_features': ['auto', 'sqrt', 'log2'],\n",
    "    'max_depth': [10, 20, 30, 40, 50, 60, 70, 80, 90, 100, None],\n",
    "    'min_samples_split': [2, 5, 10],\n",
    "    'min_samples_leaf': [1, 2, 4],\n",
    "    'bootstrap': [True, False]\n",
    "}\n",
    "\n",
    "grid_search = GridSearchCV(estimator=model, param_grid=param_grid, scoring=auc_pr_scorer, cv=3, n_jobs=-1)\n",
    "grid_search.fit(X_train, y_train)\n",
    "grid_search.best_params_"
   ],
   "metadata": {
    "collapsed": false,
    "ExecuteTime": {
     "end_time": "2024-02-07T21:06:38.252372400Z",
     "start_time": "2024-02-07T21:04:35.734662100Z"
    }
   },
   "id": "d13b045077bedabf",
   "execution_count": 21
  },
  {
   "cell_type": "code",
   "outputs": [
    {
     "data": {
      "text/plain": "0.900194819019002"
     },
     "execution_count": 22,
     "metadata": {},
     "output_type": "execute_result"
    }
   ],
   "source": [
    "grid_search.best_score_"
   ],
   "metadata": {
    "collapsed": false,
    "ExecuteTime": {
     "end_time": "2024-02-07T21:06:45.959810600Z",
     "start_time": "2024-02-07T21:06:45.941768100Z"
    }
   },
   "id": "76c83b19ba36f6fb",
   "execution_count": 22
  },
  {
   "cell_type": "code",
   "outputs": [
    {
     "name": "stdout",
     "output_type": "stream",
     "text": [
      "              precision    recall  f1-score   support\n",
      "\n",
      "           0       0.95      0.99      0.97      1115\n",
      "           1       0.93      0.72      0.81       208\n",
      "\n",
      "    accuracy                           0.95      1323\n",
      "   macro avg       0.94      0.86      0.89      1323\n",
      "weighted avg       0.95      0.95      0.94      1323\n",
      "\n",
      "[[1103   12]\n",
      " [  58  150]]\n",
      "0.9470899470899471\n",
      "0.7115748008605152\n",
      "0.7115748008605152\n"
     ]
    }
   ],
   "source": [
    "# Random Forest Classifier with sci-kit learn\n",
    "\n",
    "from sklearn.ensemble import RandomForestClassifier\n",
    "from sklearn.model_selection import train_test_split\n",
    "from sklearn.metrics import classification_report, confusion_matrix, accuracy_score, average_precision_score\n",
    "\n",
    "\n",
    "model = RandomForestClassifier()\n",
    "model.fit(X_train, y_train)\n",
    "y_pred = model.predict(X_test)\n",
    "\n",
    "print(classification_report(y_test, y_pred))\n",
    "print(confusion_matrix(y_test, y_pred))\n",
    "print(accuracy_score(y_test, y_pred))\n",
    "print(average_precision_score(y_test, y_pred))\n",
    "print(auc_pr_score(y_test, y_pred))"
   ],
   "metadata": {
    "collapsed": false,
    "ExecuteTime": {
     "end_time": "2024-02-07T23:33:56.832992200Z",
     "start_time": "2024-02-07T23:33:56.490006Z"
    }
   },
   "id": "66edc97476eccc6b",
   "execution_count": 23
  },
  {
   "cell_type": "code",
   "outputs": [
    {
     "data": {
      "text/plain": "{'bootstrap': False,\n 'max_depth': 20,\n 'max_features': 'auto',\n 'min_samples_leaf': 1,\n 'min_samples_split': 2,\n 'n_estimators': 150}"
     },
     "execution_count": 24,
     "metadata": {},
     "output_type": "execute_result"
    }
   ],
   "source": [
    "# Optimize model with grid search cv\n",
    "\n",
    "param_grid = {\n",
    "    'n_estimators': [50, 100, 150, 200],\n",
    "    'max_features': ['auto', 'sqrt', 'log2'],\n",
    "    'max_depth': [10, 20, 30, 40, 50, 60, 70, 80, 90, 100, None],\n",
    "    'min_samples_split': [2, 5, 10],\n",
    "    'min_samples_leaf': [1, 2, 4],\n",
    "    'bootstrap': [True, False]\n",
    "}\n",
    "\n",
    "grid_search = GridSearchCV(estimator=model, param_grid=param_grid, scoring=auc_pr_scorer, cv=3, n_jobs=-1)\n",
    "grid_search.fit(X_train, y_train)\n",
    "grid_search.best_params_"
   ],
   "metadata": {
    "collapsed": false,
    "ExecuteTime": {
     "end_time": "2024-02-07T23:37:02.150851300Z",
     "start_time": "2024-02-07T23:34:10.919355600Z"
    }
   },
   "id": "50bef99dfe5d9bef",
   "execution_count": 24
  },
  {
   "cell_type": "code",
   "outputs": [
    {
     "data": {
      "text/plain": "0.8836372940774636"
     },
     "execution_count": 25,
     "metadata": {},
     "output_type": "execute_result"
    }
   ],
   "source": [
    "grid_search.best_score_"
   ],
   "metadata": {
    "collapsed": false,
    "ExecuteTime": {
     "end_time": "2024-02-07T23:37:15.532638800Z",
     "start_time": "2024-02-07T23:37:15.514196900Z"
    }
   },
   "id": "c55d63f48659ef4a",
   "execution_count": 25
  },
  {
   "cell_type": "code",
   "outputs": [],
   "source": [],
   "metadata": {
    "collapsed": false
   },
   "id": "5f80e759cda1a0c4"
  }
 ],
 "metadata": {
  "kernelspec": {
   "display_name": "Python 3",
   "language": "python",
   "name": "python3"
  },
  "language_info": {
   "codemirror_mode": {
    "name": "ipython",
    "version": 2
   },
   "file_extension": ".py",
   "mimetype": "text/x-python",
   "name": "python",
   "nbconvert_exporter": "python",
   "pygments_lexer": "ipython2",
   "version": "2.7.6"
  }
 },
 "nbformat": 4,
 "nbformat_minor": 5
}
