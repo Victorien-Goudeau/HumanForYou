{
 "cells": [
  {
   "cell_type": "code",
   "execution_count": 142,
   "id": "initial_id",
   "metadata": {
    "collapsed": true,
    "ExecuteTime": {
     "end_time": "2024-02-07T12:37:06.123063500Z",
     "start_time": "2024-02-07T12:37:06.114794500Z"
    }
   },
   "outputs": [],
   "source": [
    "import pandas as pd\n",
    "import numpy as np\n",
    "import matplotlib.pyplot as plt\n",
    "import seaborn as sns\n",
    "import warnings\n",
    "import os, uuid\n",
    "from sklearn.pipeline import Pipeline\n",
    "from azure.identity import DefaultAzureCredential\n",
    "from azure.storage.blob import BlobServiceClient, BlobClient, ContainerClient\n",
    "from io import BytesIO\n",
    "from sklearn.base import BaseEstimator, TransformerMixin\n",
    "from sklearn.preprocessing import OrdinalEncoder\n",
    "warnings.filterwarnings('ignore')\n",
    "sns.set()"
   ]
  },
  {
   "cell_type": "code",
   "outputs": [],
   "source": [
    "connect_str = os.getenv('AZURE_STORAGE_CONNECTION_STRING')\n",
    "blob_service_client = BlobServiceClient.from_connection_string(connect_str)\n",
    "container_client = blob_service_client.get_container_client(\"data\")"
   ],
   "metadata": {
    "collapsed": false,
    "ExecuteTime": {
     "end_time": "2024-02-07T12:37:06.130953500Z",
     "start_time": "2024-02-07T12:37:06.126063400Z"
    }
   },
   "id": "f7e67276eeeffbb2",
   "execution_count": 143
  },
  {
   "cell_type": "code",
   "outputs": [],
   "source": [
    "def download_blob_to_df(blob_name):\n",
    "    blob_client = container_client.get_blob_client(blob_name)\n",
    "    download_stream = blob_client.download_blob()\n",
    "    blob_data = BytesIO(download_stream.readall())\n",
    "    return pd.read_csv(blob_data)"
   ],
   "metadata": {
    "collapsed": false,
    "ExecuteTime": {
     "end_time": "2024-02-07T12:37:06.140631500Z",
     "start_time": "2024-02-07T12:37:06.133297600Z"
    }
   },
   "id": "e2bd030194ced972",
   "execution_count": 144
  },
  {
   "cell_type": "code",
   "outputs": [],
   "source": [
    "in_time_df = download_blob_to_df(\"in_time.csv\")\n",
    "manager_survey_data_df = download_blob_to_df(\"manager_survey_data.csv\")\n",
    "employee_survey_data_df = download_blob_to_df(\"employee_survey_data.csv\")\n",
    "out_time_df = download_blob_to_df(\"out_time.csv\")\n",
    "general_data_df = download_blob_to_df(\"general_data.csv\")"
   ],
   "metadata": {
    "collapsed": false,
    "ExecuteTime": {
     "end_time": "2024-02-07T12:37:10.688442800Z",
     "start_time": "2024-02-07T12:37:06.136303600Z"
    }
   },
   "id": "f9c7df4c97867cae",
   "execution_count": 145
  },
  {
   "cell_type": "code",
   "outputs": [],
   "source": [
    "class mergeDataFrame (BaseEstimator, TransformerMixin):\n",
    "    def __init__(self, employee_survey_data_df, manager_survey_data_df, in_time_df, out_time_df):\n",
    "        self.employee_survey_data_df = employee_survey_data_df\n",
    "        self.manager_survey_data_df = manager_survey_data_df\n",
    "        self.in_time_df = in_time_df\n",
    "        self.out_time_df = out_time_df\n",
    "        \n",
    "            \n",
    "    def fit(self, X, y=None):\n",
    "        return self\n",
    "    \n",
    "    def transform(self, X):\n",
    "        X = X.join(self.employee_survey_data_df.set_index('EmployeeID'), on='EmployeeID')\n",
    "        X = X.join(self.manager_survey_data_df.set_index('EmployeeID'), on='EmployeeID')\n",
    "\n",
    "        employee_id_index = self.in_time_df['Unnamed: 0']\n",
    "        self.in_time_df.fillna(0,inplace=True)\n",
    "        self.out_time_df.fillna(0,inplace= True)\n",
    "        self.in_time_df.drop(columns={'Unnamed: 0':'EmployeeID'}, inplace=True)\n",
    "        self.out_time_df.drop(columns={'Unnamed: 0':'EmployeeID'}, inplace=True)\n",
    "        \n",
    "\n",
    "        for col in self.in_time_df.columns:\n",
    "            self.in_time_df[col] = pd.to_datetime(self.in_time_df[col], errors='coerce')\n",
    "\n",
    "        for col in self.out_time_df.columns:\n",
    "            self.out_time_df[col] = pd.to_datetime(self.out_time_df[col], errors='coerce')\n",
    "        \n",
    "        daily_hours = (self.out_time_df - self.in_time_df).applymap(lambda x: x.total_seconds() / 3600)\n",
    "        daily_hours = daily_hours.fillna(0)\n",
    "        daily_hours['PresenceIndicator'] = daily_hours.iloc[:, 1:].apply(lambda row: sum(1 if hours >= 8 else 0 for hours in row), axis=1)\n",
    "\n",
    "        presence_indicator = pd.DataFrame({'EmployeeID': employee_id_index, 'PresenceIndicator': daily_hours['PresenceIndicator']})\n",
    "        \n",
    "        X = X.join(presence_indicator.set_index('EmployeeID'), on='EmployeeID', how='inner')\n",
    "        return X\n",
    "        "
   ],
   "metadata": {
    "collapsed": false,
    "ExecuteTime": {
     "end_time": "2024-02-07T12:37:10.696922300Z",
     "start_time": "2024-02-07T12:37:10.692443900Z"
    }
   },
   "id": "6db6186ac9ab9cfb",
   "execution_count": 146
  },
  {
   "cell_type": "code",
   "outputs": [],
   "source": [
    "class deleteColumns(BaseEstimator, TransformerMixin):\n",
    "    def __init__(self, array):\n",
    "        self.array = array\n",
    "\n",
    "    def fit(self, X, y=None):\n",
    "        return self\n",
    "\n",
    "    def transform(self, X, y=None):\n",
    "        X.drop(columns=self.array, inplace=True)\n",
    "        return X"
   ],
   "metadata": {
    "collapsed": false,
    "ExecuteTime": {
     "end_time": "2024-02-07T12:37:10.712616300Z",
     "start_time": "2024-02-07T12:37:10.695646300Z"
    }
   },
   "id": "4d3bd59a918a7002",
   "execution_count": 147
  },
  {
   "cell_type": "code",
   "outputs": [],
   "source": [
    "class encodingData (BaseEstimator, TransformerMixin):\n",
    "    def fit(self, X, y=None):\n",
    "        return self\n",
    "    \n",
    "    def transform(self, X):\n",
    "        X[\"Attrition\"] = X[\"Attrition\"].map({\"Yes\": 1, \"No\": 0})\n",
    "        X[\"BusinessTravel\"] = X[\"BusinessTravel\"].map({\"Non-Travel\": 0, \"Travel_Rarely\": 1, \"Travel_Frequently\": 2})\n",
    "        ordinal_encoder = OrdinalEncoder()\n",
    "        for i in X.select_dtypes(include=[\"object\"]).keys():\n",
    "            X[i] = ordinal_encoder.fit_transform(X[[i]])\n",
    "        return X"
   ],
   "metadata": {
    "collapsed": false,
    "ExecuteTime": {
     "end_time": "2024-02-07T12:37:10.726832700Z",
     "start_time": "2024-02-07T12:37:10.714425700Z"
    }
   },
   "id": "f4dd920acb3686b1",
   "execution_count": 148
  },
  {
   "cell_type": "code",
   "outputs": [],
   "source": [
    "class cleanData (BaseEstimator, TransformerMixin):\n",
    "    def fit(self, X, y=None):\n",
    "        return self\n",
    "    \n",
    "    def transform(self, X):\n",
    "        environmentSatisfactionMedian = X.EnvironmentSatisfaction.median()\n",
    "        jobSatisfactionMedian = X.JobSatisfaction.median()\n",
    "        workLifeBalanceMedian = X.WorkLifeBalance.median()\n",
    "        totalWorkingYears_median = X['TotalWorkingYears'].median()\n",
    "        X['EnvironmentSatisfaction'].fillna(environmentSatisfactionMedian, inplace = True)\n",
    "        X['JobSatisfaction'].fillna(jobSatisfactionMedian, inplace = True)\n",
    "        X['WorkLifeBalance'].fillna(workLifeBalanceMedian, inplace = True)\n",
    "        X['TotalWorkingYears'].fillna(totalWorkingYears_median, inplace = True)\n",
    "        X['NumCompaniesWorked'].fillna(1.0, inplace = True)\n",
    "        X = X.fillna(0)\n",
    "        return X"
   ],
   "metadata": {
    "collapsed": false,
    "ExecuteTime": {
     "end_time": "2024-02-07T12:37:10.726832700Z",
     "start_time": "2024-02-07T12:37:10.718265900Z"
    }
   },
   "id": "ca7f8dc86b8f26e9",
   "execution_count": 149
  },
  {
   "cell_type": "code",
   "outputs": [],
   "source": [
    "class corrData(BaseEstimator, TransformerMixin):\n",
    "    def fit(self, X, y=None):\n",
    "        return self\n",
    "\n",
    "    def transform(self, X, y=None):\n",
    "        # Calculate correlations and retain only significant ones\n",
    "        corr_x = self.retain_terminal(X.corr())\n",
    "        significant_parameters, _ = self.separation_significant_parameters(corr_x)\n",
    "\n",
    "        # Recalculate correlations only among significant parameters\n",
    "        corr_tmp = X[significant_parameters].corr()\n",
    "        corr_tmp = self.retain_terminal(corr_tmp)\n",
    "\n",
    "        # Select only features with non-zero correlation to 'Attrition'\n",
    "        significant_features = corr_tmp.Attrition[corr_tmp.Attrition != 0].index.tolist()\n",
    "        return X[significant_features]\n",
    "\n",
    "    def retain_terminal(self, frame):\n",
    "        # Set correlation values below threshold to zero\n",
    "        for i in frame.columns:\n",
    "            for j in frame.index:\n",
    "                if abs(frame.loc[j, i]) < 0.1:\n",
    "                    frame.loc[j, i] = 0\n",
    "        return frame\n",
    "\n",
    "    def separation_significant_parameters(self, frame):\n",
    "        # Separate parameters based on their significance\n",
    "        significant_parameter = []\n",
    "        insignificant_parameter = []\n",
    "        for column in frame.columns:\n",
    "            if not all(frame[column] == 0):\n",
    "                significant_parameter.append(column)\n",
    "            else:\n",
    "                insignificant_parameter.append(column)\n",
    "        return significant_parameter, insignificant_parameter\n"
   ],
   "metadata": {
    "collapsed": false,
    "ExecuteTime": {
     "end_time": "2024-02-07T12:37:10.727845700Z",
     "start_time": "2024-02-07T12:37:10.721502800Z"
    }
   },
   "id": "ead76ab869d4b8df",
   "execution_count": 150
  },
  {
   "cell_type": "code",
   "outputs": [
    {
     "data": {
      "text/plain": "Pipeline(steps=[('merge',\n                 mergeDataFrame(employee_survey_data_df=      EmployeeID  EnvironmentSatisfaction  JobSatisfaction  WorkLifeBalance\n0              1                      3.0              4.0              2.0\n1              2                      3.0              2.0              4.0\n2              3                      2.0              2.0              1.0\n3              4                      4.0              4.0              3.0\n4              5                      4.0              1.0              3.0\n...          ...                      ...              ...              ...\n4405        4406                      4.0              1.0              3.0\n4406        4407                      4.0              4.0              3.0\n4407        4408                      1.0              3.0              3.0\n4408        4409                      4.0              1.0              3.0\n4409        4410                      1.0              3.0              NaN\n\n[4410 rows x 4 columns],\n                                in_time_df=     2015-01-01          2015-01-02          2015-01-05          2015-01...\n4407                 NaT 2015-12-30 17:48:14 2015-12-31 18:08:55  \n4408 2015-12-29 18:55:26 2015-12-30 19:37:22 2015-12-31 19:33:45  \n4409 2015-12-29 17:16:19 2015-12-30 17:29:55 2015-12-31 16:39:18  \n\n[4410 rows x 261 columns])),\n                ('delete',\n                 deleteColumns(array=['EmployeeID', 'EmployeeCount', 'Over18',\n                                      'StandardHours', 'MaritalStatus',\n                                      'Gender', 'Age'])),\n                ('encoding', encodingData()), ('clean', cleanData()),\n                ('corr', corrData())])",
      "text/html": "<style>#sk-container-id-1 {\n  /* Definition of color scheme common for light and dark mode */\n  --sklearn-color-text: black;\n  --sklearn-color-line: gray;\n  /* Definition of color scheme for unfitted estimators */\n  --sklearn-color-unfitted-level-0: #fff5e6;\n  --sklearn-color-unfitted-level-1: #f6e4d2;\n  --sklearn-color-unfitted-level-2: #ffe0b3;\n  --sklearn-color-unfitted-level-3: chocolate;\n  /* Definition of color scheme for fitted estimators */\n  --sklearn-color-fitted-level-0: #f0f8ff;\n  --sklearn-color-fitted-level-1: #d4ebff;\n  --sklearn-color-fitted-level-2: #b3dbfd;\n  --sklearn-color-fitted-level-3: cornflowerblue;\n\n  /* Specific color for light theme */\n  --sklearn-color-text-on-default-background: var(--sg-text-color, var(--theme-code-foreground, var(--jp-content-font-color1, black)));\n  --sklearn-color-background: var(--sg-background-color, var(--theme-background, var(--jp-layout-color0, white)));\n  --sklearn-color-border-box: var(--sg-text-color, var(--theme-code-foreground, var(--jp-content-font-color1, black)));\n  --sklearn-color-icon: #696969;\n\n  @media (prefers-color-scheme: dark) {\n    /* Redefinition of color scheme for dark theme */\n    --sklearn-color-text-on-default-background: var(--sg-text-color, var(--theme-code-foreground, var(--jp-content-font-color1, white)));\n    --sklearn-color-background: var(--sg-background-color, var(--theme-background, var(--jp-layout-color0, #111)));\n    --sklearn-color-border-box: var(--sg-text-color, var(--theme-code-foreground, var(--jp-content-font-color1, white)));\n    --sklearn-color-icon: #878787;\n  }\n}\n\n#sk-container-id-1 {\n  color: var(--sklearn-color-text);\n}\n\n#sk-container-id-1 pre {\n  padding: 0;\n}\n\n#sk-container-id-1 input.sk-hidden--visually {\n  border: 0;\n  clip: rect(1px 1px 1px 1px);\n  clip: rect(1px, 1px, 1px, 1px);\n  height: 1px;\n  margin: -1px;\n  overflow: hidden;\n  padding: 0;\n  position: absolute;\n  width: 1px;\n}\n\n#sk-container-id-1 div.sk-dashed-wrapped {\n  border: 1px dashed var(--sklearn-color-line);\n  margin: 0 0.4em 0.5em 0.4em;\n  box-sizing: border-box;\n  padding-bottom: 0.4em;\n  background-color: var(--sklearn-color-background);\n}\n\n#sk-container-id-1 div.sk-container {\n  /* jupyter's `normalize.less` sets `[hidden] { display: none; }`\n     but bootstrap.min.css set `[hidden] { display: none !important; }`\n     so we also need the `!important` here to be able to override the\n     default hidden behavior on the sphinx rendered scikit-learn.org.\n     See: https://github.com/scikit-learn/scikit-learn/issues/21755 */\n  display: inline-block !important;\n  position: relative;\n}\n\n#sk-container-id-1 div.sk-text-repr-fallback {\n  display: none;\n}\n\ndiv.sk-parallel-item,\ndiv.sk-serial,\ndiv.sk-item {\n  /* draw centered vertical line to link estimators */\n  background-image: linear-gradient(var(--sklearn-color-text-on-default-background), var(--sklearn-color-text-on-default-background));\n  background-size: 2px 100%;\n  background-repeat: no-repeat;\n  background-position: center center;\n}\n\n/* Parallel-specific style estimator block */\n\n#sk-container-id-1 div.sk-parallel-item::after {\n  content: \"\";\n  width: 100%;\n  border-bottom: 2px solid var(--sklearn-color-text-on-default-background);\n  flex-grow: 1;\n}\n\n#sk-container-id-1 div.sk-parallel {\n  display: flex;\n  align-items: stretch;\n  justify-content: center;\n  background-color: var(--sklearn-color-background);\n  position: relative;\n}\n\n#sk-container-id-1 div.sk-parallel-item {\n  display: flex;\n  flex-direction: column;\n}\n\n#sk-container-id-1 div.sk-parallel-item:first-child::after {\n  align-self: flex-end;\n  width: 50%;\n}\n\n#sk-container-id-1 div.sk-parallel-item:last-child::after {\n  align-self: flex-start;\n  width: 50%;\n}\n\n#sk-container-id-1 div.sk-parallel-item:only-child::after {\n  width: 0;\n}\n\n/* Serial-specific style estimator block */\n\n#sk-container-id-1 div.sk-serial {\n  display: flex;\n  flex-direction: column;\n  align-items: center;\n  background-color: var(--sklearn-color-background);\n  padding-right: 1em;\n  padding-left: 1em;\n}\n\n\n/* Toggleable style: style used for estimator/Pipeline/ColumnTransformer box that is\nclickable and can be expanded/collapsed.\n- Pipeline and ColumnTransformer use this feature and define the default style\n- Estimators will overwrite some part of the style using the `sk-estimator` class\n*/\n\n/* Pipeline and ColumnTransformer style (default) */\n\n#sk-container-id-1 div.sk-toggleable {\n  /* Default theme specific background. It is overwritten whether we have a\n  specific estimator or a Pipeline/ColumnTransformer */\n  background-color: var(--sklearn-color-background);\n}\n\n/* Toggleable label */\n#sk-container-id-1 label.sk-toggleable__label {\n  cursor: pointer;\n  display: block;\n  width: 100%;\n  margin-bottom: 0;\n  padding: 0.5em;\n  box-sizing: border-box;\n  text-align: center;\n}\n\n#sk-container-id-1 label.sk-toggleable__label-arrow:before {\n  /* Arrow on the left of the label */\n  content: \"▸\";\n  float: left;\n  margin-right: 0.25em;\n  color: var(--sklearn-color-icon);\n}\n\n#sk-container-id-1 label.sk-toggleable__label-arrow:hover:before {\n  color: var(--sklearn-color-text);\n}\n\n/* Toggleable content - dropdown */\n\n#sk-container-id-1 div.sk-toggleable__content {\n  max-height: 0;\n  max-width: 0;\n  overflow: hidden;\n  text-align: left;\n  /* unfitted */\n  background-color: var(--sklearn-color-unfitted-level-0);\n}\n\n#sk-container-id-1 div.sk-toggleable__content.fitted {\n  /* fitted */\n  background-color: var(--sklearn-color-fitted-level-0);\n}\n\n#sk-container-id-1 div.sk-toggleable__content pre {\n  margin: 0.2em;\n  border-radius: 0.25em;\n  color: var(--sklearn-color-text);\n  /* unfitted */\n  background-color: var(--sklearn-color-unfitted-level-0);\n}\n\n#sk-container-id-1 div.sk-toggleable__content.fitted pre {\n  /* unfitted */\n  background-color: var(--sklearn-color-fitted-level-0);\n}\n\n#sk-container-id-1 input.sk-toggleable__control:checked~div.sk-toggleable__content {\n  /* Expand drop-down */\n  max-height: 200px;\n  max-width: 100%;\n  overflow: auto;\n}\n\n#sk-container-id-1 input.sk-toggleable__control:checked~label.sk-toggleable__label-arrow:before {\n  content: \"▾\";\n}\n\n/* Pipeline/ColumnTransformer-specific style */\n\n#sk-container-id-1 div.sk-label input.sk-toggleable__control:checked~label.sk-toggleable__label {\n  color: var(--sklearn-color-text);\n  background-color: var(--sklearn-color-unfitted-level-2);\n}\n\n#sk-container-id-1 div.sk-label.fitted input.sk-toggleable__control:checked~label.sk-toggleable__label {\n  background-color: var(--sklearn-color-fitted-level-2);\n}\n\n/* Estimator-specific style */\n\n/* Colorize estimator box */\n#sk-container-id-1 div.sk-estimator input.sk-toggleable__control:checked~label.sk-toggleable__label {\n  /* unfitted */\n  background-color: var(--sklearn-color-unfitted-level-2);\n}\n\n#sk-container-id-1 div.sk-estimator.fitted input.sk-toggleable__control:checked~label.sk-toggleable__label {\n  /* fitted */\n  background-color: var(--sklearn-color-fitted-level-2);\n}\n\n#sk-container-id-1 div.sk-label label.sk-toggleable__label,\n#sk-container-id-1 div.sk-label label {\n  /* The background is the default theme color */\n  color: var(--sklearn-color-text-on-default-background);\n}\n\n/* On hover, darken the color of the background */\n#sk-container-id-1 div.sk-label:hover label.sk-toggleable__label {\n  color: var(--sklearn-color-text);\n  background-color: var(--sklearn-color-unfitted-level-2);\n}\n\n/* Label box, darken color on hover, fitted */\n#sk-container-id-1 div.sk-label.fitted:hover label.sk-toggleable__label.fitted {\n  color: var(--sklearn-color-text);\n  background-color: var(--sklearn-color-fitted-level-2);\n}\n\n/* Estimator label */\n\n#sk-container-id-1 div.sk-label label {\n  font-family: monospace;\n  font-weight: bold;\n  display: inline-block;\n  line-height: 1.2em;\n}\n\n#sk-container-id-1 div.sk-label-container {\n  text-align: center;\n}\n\n/* Estimator-specific */\n#sk-container-id-1 div.sk-estimator {\n  font-family: monospace;\n  border: 1px dotted var(--sklearn-color-border-box);\n  border-radius: 0.25em;\n  box-sizing: border-box;\n  margin-bottom: 0.5em;\n  /* unfitted */\n  background-color: var(--sklearn-color-unfitted-level-0);\n}\n\n#sk-container-id-1 div.sk-estimator.fitted {\n  /* fitted */\n  background-color: var(--sklearn-color-fitted-level-0);\n}\n\n/* on hover */\n#sk-container-id-1 div.sk-estimator:hover {\n  /* unfitted */\n  background-color: var(--sklearn-color-unfitted-level-2);\n}\n\n#sk-container-id-1 div.sk-estimator.fitted:hover {\n  /* fitted */\n  background-color: var(--sklearn-color-fitted-level-2);\n}\n\n/* Specification for estimator info (e.g. \"i\" and \"?\") */\n\n/* Common style for \"i\" and \"?\" */\n\n.sk-estimator-doc-link,\na:link.sk-estimator-doc-link,\na:visited.sk-estimator-doc-link {\n  float: right;\n  font-size: smaller;\n  line-height: 1em;\n  font-family: monospace;\n  background-color: var(--sklearn-color-background);\n  border-radius: 1em;\n  height: 1em;\n  width: 1em;\n  text-decoration: none !important;\n  margin-left: 1ex;\n  /* unfitted */\n  border: var(--sklearn-color-unfitted-level-1) 1pt solid;\n  color: var(--sklearn-color-unfitted-level-1);\n}\n\n.sk-estimator-doc-link.fitted,\na:link.sk-estimator-doc-link.fitted,\na:visited.sk-estimator-doc-link.fitted {\n  /* fitted */\n  border: var(--sklearn-color-fitted-level-1) 1pt solid;\n  color: var(--sklearn-color-fitted-level-1);\n}\n\n/* On hover */\ndiv.sk-estimator:hover .sk-estimator-doc-link:hover,\n.sk-estimator-doc-link:hover,\ndiv.sk-label-container:hover .sk-estimator-doc-link:hover,\n.sk-estimator-doc-link:hover {\n  /* unfitted */\n  background-color: var(--sklearn-color-unfitted-level-3);\n  color: var(--sklearn-color-background);\n  text-decoration: none;\n}\n\ndiv.sk-estimator.fitted:hover .sk-estimator-doc-link.fitted:hover,\n.sk-estimator-doc-link.fitted:hover,\ndiv.sk-label-container:hover .sk-estimator-doc-link.fitted:hover,\n.sk-estimator-doc-link.fitted:hover {\n  /* fitted */\n  background-color: var(--sklearn-color-fitted-level-3);\n  color: var(--sklearn-color-background);\n  text-decoration: none;\n}\n\n/* Span, style for the box shown on hovering the info icon */\n.sk-estimator-doc-link span {\n  display: none;\n  z-index: 9999;\n  position: relative;\n  font-weight: normal;\n  right: .2ex;\n  padding: .5ex;\n  margin: .5ex;\n  width: min-content;\n  min-width: 20ex;\n  max-width: 50ex;\n  color: var(--sklearn-color-text);\n  box-shadow: 2pt 2pt 4pt #999;\n  /* unfitted */\n  background: var(--sklearn-color-unfitted-level-0);\n  border: .5pt solid var(--sklearn-color-unfitted-level-3);\n}\n\n.sk-estimator-doc-link.fitted span {\n  /* fitted */\n  background: var(--sklearn-color-fitted-level-0);\n  border: var(--sklearn-color-fitted-level-3);\n}\n\n.sk-estimator-doc-link:hover span {\n  display: block;\n}\n\n/* \"?\"-specific style due to the `<a>` HTML tag */\n\n#sk-container-id-1 a.estimator_doc_link {\n  float: right;\n  font-size: 1rem;\n  line-height: 1em;\n  font-family: monospace;\n  background-color: var(--sklearn-color-background);\n  border-radius: 1rem;\n  height: 1rem;\n  width: 1rem;\n  text-decoration: none;\n  /* unfitted */\n  color: var(--sklearn-color-unfitted-level-1);\n  border: var(--sklearn-color-unfitted-level-1) 1pt solid;\n}\n\n#sk-container-id-1 a.estimator_doc_link.fitted {\n  /* fitted */\n  border: var(--sklearn-color-fitted-level-1) 1pt solid;\n  color: var(--sklearn-color-fitted-level-1);\n}\n\n/* On hover */\n#sk-container-id-1 a.estimator_doc_link:hover {\n  /* unfitted */\n  background-color: var(--sklearn-color-unfitted-level-3);\n  color: var(--sklearn-color-background);\n  text-decoration: none;\n}\n\n#sk-container-id-1 a.estimator_doc_link.fitted:hover {\n  /* fitted */\n  background-color: var(--sklearn-color-fitted-level-3);\n}\n</style><div id=\"sk-container-id-1\" class=\"sk-top-container\"><div class=\"sk-text-repr-fallback\"><pre>Pipeline(steps=[(&#x27;merge&#x27;,\n                 mergeDataFrame(employee_survey_data_df=      EmployeeID  EnvironmentSatisfaction  JobSatisfaction  WorkLifeBalance\n0              1                      3.0              4.0              2.0\n1              2                      3.0              2.0              4.0\n2              3                      2.0              2.0              1.0\n3              4                      4.0              4.0              3.0\n4              5                      4.0              1.0              3.0\n...          ...                      ...              ...              ...\n4405        4406                      4.0              1.0              3.0\n4406        4407                      4.0              4.0              3.0\n4407        4408                      1.0              3.0              3.0\n4408        4409                      4.0              1.0              3.0\n4409        4410                      1.0              3.0              NaN\n\n[4410 rows x 4 columns],\n                                in_time_df=     2015-01-01          2015-01-02          2015-01-05          2015-01...\n4407                 NaT 2015-12-30 17:48:14 2015-12-31 18:08:55  \n4408 2015-12-29 18:55:26 2015-12-30 19:37:22 2015-12-31 19:33:45  \n4409 2015-12-29 17:16:19 2015-12-30 17:29:55 2015-12-31 16:39:18  \n\n[4410 rows x 261 columns])),\n                (&#x27;delete&#x27;,\n                 deleteColumns(array=[&#x27;EmployeeID&#x27;, &#x27;EmployeeCount&#x27;, &#x27;Over18&#x27;,\n                                      &#x27;StandardHours&#x27;, &#x27;MaritalStatus&#x27;,\n                                      &#x27;Gender&#x27;, &#x27;Age&#x27;])),\n                (&#x27;encoding&#x27;, encodingData()), (&#x27;clean&#x27;, cleanData()),\n                (&#x27;corr&#x27;, corrData())])</pre><b>In a Jupyter environment, please rerun this cell to show the HTML representation or trust the notebook. <br />On GitHub, the HTML representation is unable to render, please try loading this page with nbviewer.org.</b></div><div class=\"sk-container\" hidden><div class=\"sk-item sk-dashed-wrapped\"><div class=\"sk-label-container\"><div class=\"sk-label  sk-toggleable\"><input class=\"sk-toggleable__control sk-hidden--visually\" id=\"sk-estimator-id-1\" type=\"checkbox\" ><label for=\"sk-estimator-id-1\" class=\"sk-toggleable__label  sk-toggleable__label-arrow \">&nbsp;&nbsp;Pipeline<a class=\"sk-estimator-doc-link \" rel=\"noreferrer\" target=\"_blank\" href=\"https://scikit-learn.org/1.4/modules/generated/sklearn.pipeline.Pipeline.html\">?<span>Documentation for Pipeline</span></a><span class=\"sk-estimator-doc-link \">i<span>Not fitted</span></span></label><div class=\"sk-toggleable__content \"><pre>Pipeline(steps=[(&#x27;merge&#x27;,\n                 mergeDataFrame(employee_survey_data_df=      EmployeeID  EnvironmentSatisfaction  JobSatisfaction  WorkLifeBalance\n0              1                      3.0              4.0              2.0\n1              2                      3.0              2.0              4.0\n2              3                      2.0              2.0              1.0\n3              4                      4.0              4.0              3.0\n4              5                      4.0              1.0              3.0\n...          ...                      ...              ...              ...\n4405        4406                      4.0              1.0              3.0\n4406        4407                      4.0              4.0              3.0\n4407        4408                      1.0              3.0              3.0\n4408        4409                      4.0              1.0              3.0\n4409        4410                      1.0              3.0              NaN\n\n[4410 rows x 4 columns],\n                                in_time_df=     2015-01-01          2015-01-02          2015-01-05          2015-01...\n4407                 NaT 2015-12-30 17:48:14 2015-12-31 18:08:55  \n4408 2015-12-29 18:55:26 2015-12-30 19:37:22 2015-12-31 19:33:45  \n4409 2015-12-29 17:16:19 2015-12-30 17:29:55 2015-12-31 16:39:18  \n\n[4410 rows x 261 columns])),\n                (&#x27;delete&#x27;,\n                 deleteColumns(array=[&#x27;EmployeeID&#x27;, &#x27;EmployeeCount&#x27;, &#x27;Over18&#x27;,\n                                      &#x27;StandardHours&#x27;, &#x27;MaritalStatus&#x27;,\n                                      &#x27;Gender&#x27;, &#x27;Age&#x27;])),\n                (&#x27;encoding&#x27;, encodingData()), (&#x27;clean&#x27;, cleanData()),\n                (&#x27;corr&#x27;, corrData())])</pre></div> </div></div><div class=\"sk-serial\"><div class=\"sk-item\"><div class=\"sk-estimator  sk-toggleable\"><input class=\"sk-toggleable__control sk-hidden--visually\" id=\"sk-estimator-id-2\" type=\"checkbox\" ><label for=\"sk-estimator-id-2\" class=\"sk-toggleable__label  sk-toggleable__label-arrow \">mergeDataFrame</label><div class=\"sk-toggleable__content \"><pre>mergeDataFrame(employee_survey_data_df=      EmployeeID  EnvironmentSatisfaction  JobSatisfaction  WorkLifeBalance\n0              1                      3.0              4.0              2.0\n1              2                      3.0              2.0              4.0\n2              3                      2.0              2.0              1.0\n3              4                      4.0              4.0              3.0\n4              5                      4.0              1.0              3.0\n...          ...                      ...              ...              ...\n4405        4406                      4.0              1.0              3.0\n4406        4407                      4.0              4.0              3.0\n4407        4408                      1.0              3.0              3.0\n4408        4409                      4.0              1.0              3.0\n4409        4410                      1.0              3.0              NaN\n\n[4410 rows x 4 columns],\n               in_time_df=     2015-01-01          2015-01-02          2015-01-05          2015-01-06  \\\n0    1970-01-01 2015-01-02...\n4    2015-12-29 18:47:00 2015-12-30 17:15:33 2015-12-31 17:42:14  \n...                  ...                 ...                 ...  \n4405 2015-12-29 19:14:38 2015-12-30 18:24:56 2015-12-31 18:30:41  \n4406 2015-12-29 16:47:02 2015-12-30 16:03:17 2015-12-31 16:18:39  \n4407                 NaT 2015-12-30 17:48:14 2015-12-31 18:08:55  \n4408 2015-12-29 18:55:26 2015-12-30 19:37:22 2015-12-31 19:33:45  \n4409 2015-12-29 17:16:19 2015-12-30 17:29:55 2015-12-31 16:39:18  \n\n[4410 rows x 261 columns])</pre></div> </div></div><div class=\"sk-item\"><div class=\"sk-estimator  sk-toggleable\"><input class=\"sk-toggleable__control sk-hidden--visually\" id=\"sk-estimator-id-3\" type=\"checkbox\" ><label for=\"sk-estimator-id-3\" class=\"sk-toggleable__label  sk-toggleable__label-arrow \">deleteColumns</label><div class=\"sk-toggleable__content \"><pre>deleteColumns(array=[&#x27;EmployeeID&#x27;, &#x27;EmployeeCount&#x27;, &#x27;Over18&#x27;, &#x27;StandardHours&#x27;,\n                     &#x27;MaritalStatus&#x27;, &#x27;Gender&#x27;, &#x27;Age&#x27;])</pre></div> </div></div><div class=\"sk-item\"><div class=\"sk-estimator  sk-toggleable\"><input class=\"sk-toggleable__control sk-hidden--visually\" id=\"sk-estimator-id-4\" type=\"checkbox\" ><label for=\"sk-estimator-id-4\" class=\"sk-toggleable__label  sk-toggleable__label-arrow \">encodingData</label><div class=\"sk-toggleable__content \"><pre>encodingData()</pre></div> </div></div><div class=\"sk-item\"><div class=\"sk-estimator  sk-toggleable\"><input class=\"sk-toggleable__control sk-hidden--visually\" id=\"sk-estimator-id-5\" type=\"checkbox\" ><label for=\"sk-estimator-id-5\" class=\"sk-toggleable__label  sk-toggleable__label-arrow \">cleanData</label><div class=\"sk-toggleable__content \"><pre>cleanData()</pre></div> </div></div><div class=\"sk-item\"><div class=\"sk-estimator  sk-toggleable\"><input class=\"sk-toggleable__control sk-hidden--visually\" id=\"sk-estimator-id-6\" type=\"checkbox\" ><label for=\"sk-estimator-id-6\" class=\"sk-toggleable__label  sk-toggleable__label-arrow \">corrData</label><div class=\"sk-toggleable__content \"><pre>corrData()</pre></div> </div></div></div></div></div></div>"
     },
     "metadata": {},
     "output_type": "display_data"
    }
   ],
   "source": [
    "pipeline = Pipeline([\n",
    "    ('merge', mergeDataFrame(employee_survey_data_df, manager_survey_data_df, in_time_df, out_time_df)),\n",
    "    ('delete', deleteColumns(['EmployeeID', 'EmployeeCount', 'Over18', 'StandardHours', 'MaritalStatus', 'Gender', 'Age'])),\n",
    "    ('encoding', encodingData()),\n",
    "    ('clean', cleanData()),\n",
    "    ('corr', corrData())\n",
    "])\n",
    "from sklearn import set_config\n",
    "set_config(display='diagram')\n",
    "display(pipeline)"
   ],
   "metadata": {
    "collapsed": false,
    "ExecuteTime": {
     "end_time": "2024-02-07T12:40:25.496898900Z",
     "start_time": "2024-02-07T12:40:25.215855300Z"
    }
   },
   "id": "3f5df3156d7031c9",
   "execution_count": 155
  },
  {
   "cell_type": "code",
   "outputs": [
    {
     "data": {
      "text/plain": "      Age  BusinessTravel  TotalWorkingYears  YearsAtCompany  \\\n0      51               1                1.0               1   \n1      31               2                6.0               5   \n2      32               2                5.0               5   \n3      38               0               13.0               8   \n4      32               1                9.0               6   \n...   ...             ...                ...             ...   \n4405   42               1               10.0               3   \n4406   29               1               10.0               3   \n4407   25               1                5.0               4   \n4408   42               1               10.0               9   \n4409   40               1               10.0              21   \n\n      YearsWithCurrManager  EnvironmentSatisfaction  JobSatisfaction  \\\n0                        0                      3.0              4.0   \n1                        4                      3.0              2.0   \n2                        3                      2.0              2.0   \n3                        5                      4.0              4.0   \n4                        4                      4.0              1.0   \n...                    ...                      ...              ...   \n4405                     2                      4.0              1.0   \n4406                     2                      4.0              4.0   \n4407                     2                      1.0              3.0   \n4408                     8                      4.0              1.0   \n4409                     9                      1.0              3.0   \n\n      PresenceIndicator  \n0                     0  \n1                    42  \n2                     0  \n3                     0  \n4                   115  \n...                 ...  \n4405                237  \n4406                  0  \n4407                 41  \n4408                241  \n4409                  0  \n\n[4410 rows x 8 columns]",
      "text/html": "<div>\n<style scoped>\n    .dataframe tbody tr th:only-of-type {\n        vertical-align: middle;\n    }\n\n    .dataframe tbody tr th {\n        vertical-align: top;\n    }\n\n    .dataframe thead th {\n        text-align: right;\n    }\n</style>\n<table border=\"1\" class=\"dataframe\">\n  <thead>\n    <tr style=\"text-align: right;\">\n      <th></th>\n      <th>Age</th>\n      <th>BusinessTravel</th>\n      <th>TotalWorkingYears</th>\n      <th>YearsAtCompany</th>\n      <th>YearsWithCurrManager</th>\n      <th>EnvironmentSatisfaction</th>\n      <th>JobSatisfaction</th>\n      <th>PresenceIndicator</th>\n    </tr>\n  </thead>\n  <tbody>\n    <tr>\n      <th>0</th>\n      <td>51</td>\n      <td>1</td>\n      <td>1.0</td>\n      <td>1</td>\n      <td>0</td>\n      <td>3.0</td>\n      <td>4.0</td>\n      <td>0</td>\n    </tr>\n    <tr>\n      <th>1</th>\n      <td>31</td>\n      <td>2</td>\n      <td>6.0</td>\n      <td>5</td>\n      <td>4</td>\n      <td>3.0</td>\n      <td>2.0</td>\n      <td>42</td>\n    </tr>\n    <tr>\n      <th>2</th>\n      <td>32</td>\n      <td>2</td>\n      <td>5.0</td>\n      <td>5</td>\n      <td>3</td>\n      <td>2.0</td>\n      <td>2.0</td>\n      <td>0</td>\n    </tr>\n    <tr>\n      <th>3</th>\n      <td>38</td>\n      <td>0</td>\n      <td>13.0</td>\n      <td>8</td>\n      <td>5</td>\n      <td>4.0</td>\n      <td>4.0</td>\n      <td>0</td>\n    </tr>\n    <tr>\n      <th>4</th>\n      <td>32</td>\n      <td>1</td>\n      <td>9.0</td>\n      <td>6</td>\n      <td>4</td>\n      <td>4.0</td>\n      <td>1.0</td>\n      <td>115</td>\n    </tr>\n    <tr>\n      <th>...</th>\n      <td>...</td>\n      <td>...</td>\n      <td>...</td>\n      <td>...</td>\n      <td>...</td>\n      <td>...</td>\n      <td>...</td>\n      <td>...</td>\n    </tr>\n    <tr>\n      <th>4405</th>\n      <td>42</td>\n      <td>1</td>\n      <td>10.0</td>\n      <td>3</td>\n      <td>2</td>\n      <td>4.0</td>\n      <td>1.0</td>\n      <td>237</td>\n    </tr>\n    <tr>\n      <th>4406</th>\n      <td>29</td>\n      <td>1</td>\n      <td>10.0</td>\n      <td>3</td>\n      <td>2</td>\n      <td>4.0</td>\n      <td>4.0</td>\n      <td>0</td>\n    </tr>\n    <tr>\n      <th>4407</th>\n      <td>25</td>\n      <td>1</td>\n      <td>5.0</td>\n      <td>4</td>\n      <td>2</td>\n      <td>1.0</td>\n      <td>3.0</td>\n      <td>41</td>\n    </tr>\n    <tr>\n      <th>4408</th>\n      <td>42</td>\n      <td>1</td>\n      <td>10.0</td>\n      <td>9</td>\n      <td>8</td>\n      <td>4.0</td>\n      <td>1.0</td>\n      <td>241</td>\n    </tr>\n    <tr>\n      <th>4409</th>\n      <td>40</td>\n      <td>1</td>\n      <td>10.0</td>\n      <td>21</td>\n      <td>9</td>\n      <td>1.0</td>\n      <td>3.0</td>\n      <td>0</td>\n    </tr>\n  </tbody>\n</table>\n<p>4410 rows × 8 columns</p>\n</div>"
     },
     "execution_count": 154,
     "metadata": {},
     "output_type": "execute_result"
    }
   ],
   "source": [
    "labels = dataset.keys().to_list()\n",
    "labels.remove('Attrition')\n",
    "\n",
    "X = dataset[labels]\n",
    "y = dataset['Attrition']\n",
    "# Features\n",
    "X\n",
    "\n"
   ],
   "metadata": {
    "collapsed": false,
    "ExecuteTime": {
     "end_time": "2024-02-07T12:39:23.914687600Z",
     "start_time": "2024-02-07T12:39:23.905526800Z"
    }
   },
   "id": "ab1fd5960b22a78e",
   "execution_count": 154
  },
  {
   "cell_type": "markdown",
   "source": [
    "# Choix des métriques de performance "
   ],
   "metadata": {
    "collapsed": false
   },
   "id": "cdf7eb2d87e66ee0"
  },
  {
   "cell_type": "markdown",
   "source": [
    "Afin de mesurer la performance de nos modèles pour savoir quels seront les meilleurs modèles, il est important de définir en amont des métriques de performance pour effectuer ce choix. Pour ce faire il existe plusieurs métriques de performance pour les problèmes de classification binaire."
   ],
   "metadata": {
    "collapsed": false
   },
   "id": "6256a72631cd5a07"
  },
  {
   "cell_type": "markdown",
   "source": [
    "### Accuracy\n",
    "\n",
    "L'accuracy est la métrique la plus simple et la plus utilisée pour mesurer la performance d'un modèle. Elle représente le nombre de prédictions correctes (à la fois positives et négatives) par rapport au nombre total de prédictions. Cependant, cette métrique n'est pas toujours la meilleure pour mesurer la performance d'un modèle. En effet, dans le cas où les classes ne sont pas équilibrées, l'accuracy peut être trompeuse. Par exemple, si 90% des données appartiennent à la classe 1 et 10% à la classe 0, un modèle qui prédit toujours la classe 1 aura une accuracy de 90%.\n",
    "\n",
    "$$\n",
    "\\text{Accuracy} = \\frac{TP + TN}{TP + TN + FP + FN}\n",
    "$$"
   ],
   "metadata": {
    "collapsed": false
   },
   "id": "f113f2694cbf70b0"
  },
  {
   "cell_type": "markdown",
   "source": [
    "## Precision\n",
    "\n",
    "La precision est une métrique qui mesure la proportion de vrais positifs parmi les prédictions positives. Elle est utile lorsque le coût des faux positifs est élevé. Par exemple, dans le cas d'un modèle qui prédit si un email est un spam ou non, il est préférable d'avoir un faible taux de faux positifs (emails légitimes classés comme spam) même si cela signifie que certains spams seront classés comme légitimes.\n",
    "\n",
    "$$\n",
    "\\text{Précision} = \\frac{TP}{TP + FP}\n",
    "$$"
   ],
   "metadata": {
    "collapsed": false
   },
   "id": "e7c69be06dcbb93e"
  },
  {
   "cell_type": "markdown",
   "source": [
    "## Recall \n",
    "\n",
    "Le recall (ou rappel) est une métrique qui mesure la proportion de vrais positifs parmi les vrais positifs et les faux négatifs. Elle est utile lorsque le coût des faux négatifs est élevé. Par exemple, dans le cas d'un modèle qui prédit si un patient a une maladie ou non, il est préférable d'avoir un faible taux de faux négatifs (patients malades classés comme sains) même si cela signifie que certains patients sains seront classés comme malades.\n",
    "\n",
    "$$\n",
    "\\text{Recall} = \\frac{TP}{TP + FN}\n",
    "$$"
   ],
   "metadata": {
    "collapsed": false
   },
   "id": "528cde6748234085"
  },
  {
   "cell_type": "markdown",
   "source": [
    "## F1 Score\n",
    "\n",
    "Le F1 score est la moyenne harmonique de la precision et du recall. Il est utile lorsque les classes sont déséquilibrées. En effet, dans ce cas, l'accuracy n'est pas une bonne métrique de performance. Par exemple, si 90% des données appartiennent à la classe 1 et 10% à la classe 0, un modèle qui prédit toujours la classe 1 aura une accuracy de 90%. Cependant, le F1 score de ce modèle sera de 0. \n",
    "\n",
    "$$\n",
    "F1 = 2 \\times \\frac{Precision \\times Recall}{Precision + Recall}\n",
    "$$"
   ],
   "metadata": {
    "collapsed": false
   },
   "id": "9d93db0a4fa67b1f"
  },
  {
   "cell_type": "markdown",
   "source": [
    "## AUC-ROC \n",
    "\n",
    "L'AUC-ROC (Area Under the Receiver Operating Characteristic Curve) est la mesure de la capacité d'un modèle à distinguer entre les classes. ROC est une courbe de probabilité qui trace le taux de vrais positifs contre le taux de faux positifs à différents seuils de classification. \n",
    "\n",
    "Un modèle qui fait des prédictions parfaites aurait une AUC de 1, tandis qu'un modèle qui fait des prédictions aléatoires aurait une AUC de 0.5.\n",
    "\n",
    "L'AUC-ROC est particulièrement utile lorsque les classes sont déséquilibrées. Elle est insensible au déséquilibre des classes et se concentre sur la capacité du modèle à distinguer entre les classes. Cependant, si le coût des faux positifs est très élevé, il peut être trompeur."
   ],
   "metadata": {
    "collapsed": false
   },
   "id": "fdd2e0fb997ffc2c"
  },
  {
   "cell_type": "markdown",
   "source": [
    "## AUC PR\n",
    "\n",
    "L'AUC-PR est similaire à l'AUC-ROC mais se concentre sur la relation entre la précision (proportion de vrai positifs parmis les prédiction positives) et le recall (proportion de vrais positifs parmis les vrais cas positifs). \n",
    "\n",
    "Dans un contexte où les positifs (comme les spams dans un exemple de filtrage) sont rares, l'AUC-PR donne une meilleure indication de la performance du modèle. \n",
    "\n",
    "L'AUC-PR est préférable lorsque le déséquilibre des classe est un problème et que l'on s'intéresse davantage à la performance du modèle sur la classe minoritaire. Il est plus informatif que l'AUC-ROC dans les cas où les positifs sont beaucoup moins fréquents que les négatifs."
   ],
   "metadata": {
    "collapsed": false
   },
   "id": "a5f68b174414e205"
  },
  {
   "cell_type": "markdown",
   "source": [
    "## Choix appliqué au contexte "
   ],
   "metadata": {
    "collapsed": false
   },
   "id": "e7982437808d226a"
  },
  {
   "cell_type": "markdown",
   "source": [
    "Pour le problème de l'attrition des employés, qui est un problème de classification binaire (les employés quittent ou ne quittent pas l'entreprise) \n",
    "\n",
    "Il est important de prendre en compte le coût relatif des erreurs (faux positifs vs faux négatifs) et la distribution de la classe (équilibrée ou déséquilibrée).\n",
    "\n",
    "* Si le *coût d'un faux négatif* (ne pas identifier un employé qui est susceptible de quitter) est élevée car cela pourrait perturber les opérations de l'entreprise, entaîner la perte de talent clés ou nuire à la plannification des ressources, alors il est préférable de privilégier *le recall*.\n",
    "\n",
    "* Si le coût d'un faux positif (croire à tort qu'un employé va partir) est élevée, ce qui conduit à un problème éthique et conduire à des dépenses inutiles en interventions de rétention ou à une ambiance de méfiance, alors il est préférable de privilégier la précision. \n",
    "\n",
    "Dans le contexte de notre problème, ces deux types d'erreurs sont importants, le F1-Score peut être un bon choix car il équilibre la précision et le recall. Cependant nos données étant déséquilibrées, les mesures telles que la précision, le recall et le F1-Score peuvent ne pas refléter fidèlement la performance de notre modèle.\n",
    "\n",
    "Dans ce cas L'AUC-ROC ou l'AUC-PR pourraient être plus appropriées. L'AUC-ROC est moins sensible aux déséquilibres de classe, mais si la classe positive (les employés qui quittent est beaucoup plus petite, l'AUC-PR peut être préférable car elle se concentre sur la classe minoritaire. \n",
    "\n",
    "Les autres métriques sont évidemment utiles pour évaluer la performance des modèles, mais prendrons en priorité l'AUC-PR et le F1-Score pour évaluer la performance de nos modèles."
   ],
   "metadata": {
    "collapsed": false
   },
   "id": "f834eb0afb473d4e"
  },
  {
   "cell_type": "code",
   "outputs": [],
   "source": [],
   "metadata": {
    "collapsed": false
   },
   "id": "762b4f208a8b0b3e"
  }
 ],
 "metadata": {
  "kernelspec": {
   "display_name": "Python 3",
   "language": "python",
   "name": "python3"
  },
  "language_info": {
   "codemirror_mode": {
    "name": "ipython",
    "version": 2
   },
   "file_extension": ".py",
   "mimetype": "text/x-python",
   "name": "python",
   "nbconvert_exporter": "python",
   "pygments_lexer": "ipython2",
   "version": "2.7.6"
  }
 },
 "nbformat": 4,
 "nbformat_minor": 5
}
