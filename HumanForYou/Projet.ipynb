{
 "cells": [
  {
   "cell_type": "markdown",
   "id": "1e04a630",
   "metadata": {},
   "source": [
    "# Projet"
   ]
  },
  {
   "cell_type": "markdown",
   "id": "277428a4",
   "metadata": {},
   "source": [
    "## Import des bibliothèques"
   ]
  },
  {
   "cell_type": "code",
   "execution_count": 39,
   "id": "1b16e466",
   "metadata": {
    "ExecuteTime": {
     "end_time": "2024-02-02T10:23:55.629956700Z",
     "start_time": "2024-02-02T10:23:55.512443400Z"
    }
   },
   "outputs": [],
   "source": [
    "import pandas as pd\n",
    "import numpy as np\n",
    "import matplotlib.pyplot as plt\n",
    "import seaborn as sns\n",
    "import warnings\n",
    "import os, uuid\n",
    "from azure.identity import DefaultAzureCredential\n",
    "from azure.storage.blob import BlobServiceClient, BlobClient, ContainerClient\n",
    "from io import BytesIO\n",
    "warnings.filterwarnings('ignore')\n",
    "sns.set()"
   ]
  },
  {
   "cell_type": "code",
   "outputs": [],
   "source": [
    "connect_str = os.getenv('AZURE_STORAGE_CONNECTION_STRING')\n",
    "blob_service_client = BlobServiceClient.from_connection_string(connect_str)\n",
    "container_client = blob_service_client.get_container_client(\"data\")"
   ],
   "metadata": {
    "collapsed": false,
    "ExecuteTime": {
     "end_time": "2024-02-02T10:23:55.645245500Z",
     "start_time": "2024-02-02T10:23:55.632613200Z"
    }
   },
   "id": "2e2f049e30e3fee1",
   "execution_count": 40
  },
  {
   "cell_type": "code",
   "outputs": [],
   "source": [
    "def download_blob_to_df(blob_name):\n",
    "    blob_client = container_client.get_blob_client(blob_name)\n",
    "    download_stream = blob_client.download_blob()\n",
    "    blob_data = BytesIO(download_stream.readall())\n",
    "    return pd.read_csv(blob_data)"
   ],
   "metadata": {
    "collapsed": false,
    "ExecuteTime": {
     "end_time": "2024-02-02T10:23:55.645245500Z",
     "start_time": "2024-02-02T10:23:55.637917200Z"
    }
   },
   "id": "91155da4bbbc32bb",
   "execution_count": 41
  },
  {
   "cell_type": "markdown",
   "id": "47ce5ca7",
   "metadata": {},
   "source": [
    "## Import des données"
   ]
  },
  {
   "cell_type": "code",
   "execution_count": 42,
   "id": "0208b505",
   "metadata": {
    "ExecuteTime": {
     "end_time": "2024-02-02T10:23:58.953781900Z",
     "start_time": "2024-02-02T10:23:55.642245100Z"
    }
   },
   "outputs": [],
   "source": [
    "in_time_df = download_blob_to_df(\"in_time.csv\")\n",
    "manager_survey_data_df = download_blob_to_df(\"manager_survey_data.csv\")\n",
    "employee_survey_data_df = download_blob_to_df(\"employee_survey_data.csv\")\n",
    "out_time_df = download_blob_to_df(\"out_time.csv\")\n",
    "general_data_df = download_blob_to_df(\"general_data.csv\")"
   ]
  },
  {
   "cell_type": "markdown",
   "id": "228b474a",
   "metadata": {},
   "source": [
    "## Analyse des données"
   ]
  },
  {
   "cell_type": "code",
   "execution_count": 43,
   "id": "72a91496",
   "metadata": {
    "ExecuteTime": {
     "end_time": "2024-02-02T10:23:58.960872600Z",
     "start_time": "2024-02-02T10:23:58.956850700Z"
    }
   },
   "outputs": [],
   "source": [
    "def check_df(df, name):\n",
    "\n",
    "    nan_values = df.isna().sum().sum()\n",
    "    empty_values = df.iloc[:, :].eq('').sum(axis=1).sum()\n",
    "    total_values = df.count().sum()\n",
    "\n",
    "    print(f\"Dataframe: {name} \")\n",
    "    print(f\"There's {nan_values} ({nan_values * 100 / total_values:.1f}%) NaN field(s) and {empty_values} ({empty_values * 100 / total_values:.1f}%) empty field(s) out of {total_values} field(s)\")\n",
    "    print(f\"The shape of the dataset is {df.shape}\\n\")"
   ]
  },
  {
   "cell_type": "code",
   "execution_count": 44,
   "id": "53e20183",
   "metadata": {
    "ExecuteTime": {
     "end_time": "2024-02-02T10:23:58.994937400Z",
     "start_time": "2024-02-02T10:23:58.960778500Z"
    }
   },
   "outputs": [
    {
     "name": "stdout",
     "output_type": "stream",
     "text": [
      "Dataframe: general_data_df \n",
      "There's 28 (0.0%) NaN field(s) and 0 (0.0%) empty field(s) out of 105812 field(s)\n",
      "The shape of the dataset is (4410, 24)\n"
     ]
    },
    {
     "data": {
      "text/plain": "   Age Attrition     BusinessTravel              Department  DistanceFromHome  \\\n0   51        No      Travel_Rarely                   Sales                 6   \n1   31       Yes  Travel_Frequently  Research & Development                10   \n\n   Education EducationField  EmployeeCount  EmployeeID  Gender  ...  \\\n0          2  Life Sciences              1           1  Female  ...   \n1          1  Life Sciences              1           2  Female  ...   \n\n   NumCompaniesWorked Over18 PercentSalaryHike  StandardHours  \\\n0                 1.0      Y                11              8   \n1                 0.0      Y                23              8   \n\n   StockOptionLevel TotalWorkingYears  TrainingTimesLastYear  YearsAtCompany  \\\n0                 0               1.0                      6               1   \n1                 1               6.0                      3               5   \n\n   YearsSinceLastPromotion  YearsWithCurrManager  \n0                        0                     0  \n1                        1                     4  \n\n[2 rows x 24 columns]",
      "text/html": "<div>\n<style scoped>\n    .dataframe tbody tr th:only-of-type {\n        vertical-align: middle;\n    }\n\n    .dataframe tbody tr th {\n        vertical-align: top;\n    }\n\n    .dataframe thead th {\n        text-align: right;\n    }\n</style>\n<table border=\"1\" class=\"dataframe\">\n  <thead>\n    <tr style=\"text-align: right;\">\n      <th></th>\n      <th>Age</th>\n      <th>Attrition</th>\n      <th>BusinessTravel</th>\n      <th>Department</th>\n      <th>DistanceFromHome</th>\n      <th>Education</th>\n      <th>EducationField</th>\n      <th>EmployeeCount</th>\n      <th>EmployeeID</th>\n      <th>Gender</th>\n      <th>...</th>\n      <th>NumCompaniesWorked</th>\n      <th>Over18</th>\n      <th>PercentSalaryHike</th>\n      <th>StandardHours</th>\n      <th>StockOptionLevel</th>\n      <th>TotalWorkingYears</th>\n      <th>TrainingTimesLastYear</th>\n      <th>YearsAtCompany</th>\n      <th>YearsSinceLastPromotion</th>\n      <th>YearsWithCurrManager</th>\n    </tr>\n  </thead>\n  <tbody>\n    <tr>\n      <th>0</th>\n      <td>51</td>\n      <td>No</td>\n      <td>Travel_Rarely</td>\n      <td>Sales</td>\n      <td>6</td>\n      <td>2</td>\n      <td>Life Sciences</td>\n      <td>1</td>\n      <td>1</td>\n      <td>Female</td>\n      <td>...</td>\n      <td>1.0</td>\n      <td>Y</td>\n      <td>11</td>\n      <td>8</td>\n      <td>0</td>\n      <td>1.0</td>\n      <td>6</td>\n      <td>1</td>\n      <td>0</td>\n      <td>0</td>\n    </tr>\n    <tr>\n      <th>1</th>\n      <td>31</td>\n      <td>Yes</td>\n      <td>Travel_Frequently</td>\n      <td>Research &amp; Development</td>\n      <td>10</td>\n      <td>1</td>\n      <td>Life Sciences</td>\n      <td>1</td>\n      <td>2</td>\n      <td>Female</td>\n      <td>...</td>\n      <td>0.0</td>\n      <td>Y</td>\n      <td>23</td>\n      <td>8</td>\n      <td>1</td>\n      <td>6.0</td>\n      <td>3</td>\n      <td>5</td>\n      <td>1</td>\n      <td>4</td>\n    </tr>\n  </tbody>\n</table>\n<p>2 rows × 24 columns</p>\n</div>"
     },
     "execution_count": 44,
     "metadata": {},
     "output_type": "execute_result"
    }
   ],
   "source": [
    "check_df(general_data_df, \"general_data_df\")\n",
    "general_data_df.head(2)"
   ]
  },
  {
   "cell_type": "code",
   "execution_count": 45,
   "id": "01821b3d",
   "metadata": {
    "ExecuteTime": {
     "end_time": "2024-02-02T10:23:58.995936900Z",
     "start_time": "2024-02-02T10:23:58.985957100Z"
    }
   },
   "outputs": [
    {
     "name": "stdout",
     "output_type": "stream",
     "text": [
      "Dataframe: manager_survey_data_df \n",
      "There's 0 (0.0%) NaN field(s) and 0 (0.0%) empty field(s) out of 13230 field(s)\n",
      "The shape of the dataset is (4410, 3)\n"
     ]
    },
    {
     "data": {
      "text/plain": "   EmployeeID  JobInvolvement  PerformanceRating\n0           1               3                  3\n1           2               2                  4",
      "text/html": "<div>\n<style scoped>\n    .dataframe tbody tr th:only-of-type {\n        vertical-align: middle;\n    }\n\n    .dataframe tbody tr th {\n        vertical-align: top;\n    }\n\n    .dataframe thead th {\n        text-align: right;\n    }\n</style>\n<table border=\"1\" class=\"dataframe\">\n  <thead>\n    <tr style=\"text-align: right;\">\n      <th></th>\n      <th>EmployeeID</th>\n      <th>JobInvolvement</th>\n      <th>PerformanceRating</th>\n    </tr>\n  </thead>\n  <tbody>\n    <tr>\n      <th>0</th>\n      <td>1</td>\n      <td>3</td>\n      <td>3</td>\n    </tr>\n    <tr>\n      <th>1</th>\n      <td>2</td>\n      <td>2</td>\n      <td>4</td>\n    </tr>\n  </tbody>\n</table>\n</div>"
     },
     "execution_count": 45,
     "metadata": {},
     "output_type": "execute_result"
    }
   ],
   "source": [
    "check_df(manager_survey_data_df, \"manager_survey_data_df\")\n",
    "manager_survey_data_df.head(2)"
   ]
  },
  {
   "cell_type": "code",
   "execution_count": 46,
   "id": "355435ff",
   "metadata": {
    "ExecuteTime": {
     "end_time": "2024-02-02T10:23:59.008182800Z",
     "start_time": "2024-02-02T10:23:58.993938600Z"
    }
   },
   "outputs": [
    {
     "name": "stdout",
     "output_type": "stream",
     "text": [
      "Dataframe: employee_survey_data_df \n",
      "There's 83 (0.5%) NaN field(s) and 0 (0.0%) empty field(s) out of 17557 field(s)\n",
      "The shape of the dataset is (4410, 4)\n"
     ]
    },
    {
     "data": {
      "text/plain": "   EmployeeID  EnvironmentSatisfaction  JobSatisfaction  WorkLifeBalance\n0           1                      3.0              4.0              2.0\n1           2                      3.0              2.0              4.0",
      "text/html": "<div>\n<style scoped>\n    .dataframe tbody tr th:only-of-type {\n        vertical-align: middle;\n    }\n\n    .dataframe tbody tr th {\n        vertical-align: top;\n    }\n\n    .dataframe thead th {\n        text-align: right;\n    }\n</style>\n<table border=\"1\" class=\"dataframe\">\n  <thead>\n    <tr style=\"text-align: right;\">\n      <th></th>\n      <th>EmployeeID</th>\n      <th>EnvironmentSatisfaction</th>\n      <th>JobSatisfaction</th>\n      <th>WorkLifeBalance</th>\n    </tr>\n  </thead>\n  <tbody>\n    <tr>\n      <th>0</th>\n      <td>1</td>\n      <td>3.0</td>\n      <td>4.0</td>\n      <td>2.0</td>\n    </tr>\n    <tr>\n      <th>1</th>\n      <td>2</td>\n      <td>3.0</td>\n      <td>2.0</td>\n      <td>4.0</td>\n    </tr>\n  </tbody>\n</table>\n</div>"
     },
     "execution_count": 46,
     "metadata": {},
     "output_type": "execute_result"
    }
   ],
   "source": [
    "check_df(employee_survey_data_df, \"employee_survey_data_df\")\n",
    "employee_survey_data_df.head(2)"
   ]
  },
  {
   "cell_type": "code",
   "execution_count": 47,
   "id": "0178e375",
   "metadata": {
    "ExecuteTime": {
     "end_time": "2024-02-02T10:23:59.170313300Z",
     "start_time": "2024-02-02T10:23:59.002879600Z"
    }
   },
   "outputs": [
    {
     "name": "stdout",
     "output_type": "stream",
     "text": [
      "Dataframe: in_time_df \n",
      "There's 109080 (10.4%) NaN field(s) and 0 (0.0%) empty field(s) out of 1046340 field(s)\n",
      "The shape of the dataset is (4410, 262)\n"
     ]
    },
    {
     "data": {
      "text/plain": "   Unnamed: 0  2015-01-01           2015-01-02           2015-01-05  \\\n0           1         NaN  2015-01-02 09:43:45  2015-01-05 10:08:48   \n1           2         NaN  2015-01-02 10:15:44  2015-01-05 10:21:05   \n\n            2015-01-06           2015-01-07           2015-01-08  \\\n0  2015-01-06 09:54:26  2015-01-07 09:34:31  2015-01-08 09:51:09   \n1                  NaN  2015-01-07 09:45:17  2015-01-08 10:09:04   \n\n            2015-01-09           2015-01-12           2015-01-13  ...  \\\n0  2015-01-09 10:09:25  2015-01-12 09:42:53  2015-01-13 10:13:06  ...   \n1  2015-01-09 09:43:26  2015-01-12 10:00:07  2015-01-13 10:43:29  ...   \n\n            2015-12-18           2015-12-21           2015-12-22  \\\n0                  NaN  2015-12-21 09:55:29  2015-12-22 10:04:06   \n1  2015-12-18 10:37:17  2015-12-21 09:49:02  2015-12-22 10:33:51   \n\n            2015-12-23           2015-12-24 2015-12-25           2015-12-28  \\\n0  2015-12-23 10:14:27  2015-12-24 10:11:35        NaN  2015-12-28 10:13:41   \n1  2015-12-23 10:12:10                  NaN        NaN  2015-12-28 09:31:45   \n\n            2015-12-29           2015-12-30           2015-12-31  \n0  2015-12-29 10:03:36  2015-12-30 09:54:12  2015-12-31 10:12:44  \n1  2015-12-29 09:55:49  2015-12-30 10:32:25  2015-12-31 09:27:20  \n\n[2 rows x 262 columns]",
      "text/html": "<div>\n<style scoped>\n    .dataframe tbody tr th:only-of-type {\n        vertical-align: middle;\n    }\n\n    .dataframe tbody tr th {\n        vertical-align: top;\n    }\n\n    .dataframe thead th {\n        text-align: right;\n    }\n</style>\n<table border=\"1\" class=\"dataframe\">\n  <thead>\n    <tr style=\"text-align: right;\">\n      <th></th>\n      <th>Unnamed: 0</th>\n      <th>2015-01-01</th>\n      <th>2015-01-02</th>\n      <th>2015-01-05</th>\n      <th>2015-01-06</th>\n      <th>2015-01-07</th>\n      <th>2015-01-08</th>\n      <th>2015-01-09</th>\n      <th>2015-01-12</th>\n      <th>2015-01-13</th>\n      <th>...</th>\n      <th>2015-12-18</th>\n      <th>2015-12-21</th>\n      <th>2015-12-22</th>\n      <th>2015-12-23</th>\n      <th>2015-12-24</th>\n      <th>2015-12-25</th>\n      <th>2015-12-28</th>\n      <th>2015-12-29</th>\n      <th>2015-12-30</th>\n      <th>2015-12-31</th>\n    </tr>\n  </thead>\n  <tbody>\n    <tr>\n      <th>0</th>\n      <td>1</td>\n      <td>NaN</td>\n      <td>2015-01-02 09:43:45</td>\n      <td>2015-01-05 10:08:48</td>\n      <td>2015-01-06 09:54:26</td>\n      <td>2015-01-07 09:34:31</td>\n      <td>2015-01-08 09:51:09</td>\n      <td>2015-01-09 10:09:25</td>\n      <td>2015-01-12 09:42:53</td>\n      <td>2015-01-13 10:13:06</td>\n      <td>...</td>\n      <td>NaN</td>\n      <td>2015-12-21 09:55:29</td>\n      <td>2015-12-22 10:04:06</td>\n      <td>2015-12-23 10:14:27</td>\n      <td>2015-12-24 10:11:35</td>\n      <td>NaN</td>\n      <td>2015-12-28 10:13:41</td>\n      <td>2015-12-29 10:03:36</td>\n      <td>2015-12-30 09:54:12</td>\n      <td>2015-12-31 10:12:44</td>\n    </tr>\n    <tr>\n      <th>1</th>\n      <td>2</td>\n      <td>NaN</td>\n      <td>2015-01-02 10:15:44</td>\n      <td>2015-01-05 10:21:05</td>\n      <td>NaN</td>\n      <td>2015-01-07 09:45:17</td>\n      <td>2015-01-08 10:09:04</td>\n      <td>2015-01-09 09:43:26</td>\n      <td>2015-01-12 10:00:07</td>\n      <td>2015-01-13 10:43:29</td>\n      <td>...</td>\n      <td>2015-12-18 10:37:17</td>\n      <td>2015-12-21 09:49:02</td>\n      <td>2015-12-22 10:33:51</td>\n      <td>2015-12-23 10:12:10</td>\n      <td>NaN</td>\n      <td>NaN</td>\n      <td>2015-12-28 09:31:45</td>\n      <td>2015-12-29 09:55:49</td>\n      <td>2015-12-30 10:32:25</td>\n      <td>2015-12-31 09:27:20</td>\n    </tr>\n  </tbody>\n</table>\n<p>2 rows × 262 columns</p>\n</div>"
     },
     "execution_count": 47,
     "metadata": {},
     "output_type": "execute_result"
    }
   ],
   "source": [
    "check_df(in_time_df, \"in_time_df\")\n",
    "in_time_df.head(2)"
   ]
  },
  {
   "cell_type": "code",
   "execution_count": 48,
   "id": "c289820f",
   "metadata": {
    "ExecuteTime": {
     "end_time": "2024-02-02T10:23:59.224068200Z",
     "start_time": "2024-02-02T10:23:59.112998Z"
    }
   },
   "outputs": [
    {
     "name": "stdout",
     "output_type": "stream",
     "text": [
      "Dataframe: out_time_df \n",
      "There's 109080 (10.4%) NaN field(s) and 0 (0.0%) empty field(s) out of 1046340 field(s)\n",
      "The shape of the dataset is (4410, 262)\n"
     ]
    },
    {
     "data": {
      "text/plain": "   Unnamed: 0  2015-01-01           2015-01-02           2015-01-05  \\\n0           1         NaN  2015-01-02 16:56:15  2015-01-05 17:20:11   \n1           2         NaN  2015-01-02 18:22:17  2015-01-05 17:48:22   \n\n            2015-01-06           2015-01-07           2015-01-08  \\\n0  2015-01-06 17:19:05  2015-01-07 16:34:55  2015-01-08 17:08:32   \n1                  NaN  2015-01-07 17:09:06  2015-01-08 17:34:04   \n\n            2015-01-09           2015-01-12           2015-01-13  ...  \\\n0  2015-01-09 17:38:29  2015-01-12 16:58:39  2015-01-13 18:02:58  ...   \n1  2015-01-09 16:52:29  2015-01-12 17:36:48  2015-01-13 18:00:13  ...   \n\n            2015-12-18           2015-12-21           2015-12-22  \\\n0                  NaN  2015-12-21 17:15:50  2015-12-22 17:27:51   \n1  2015-12-18 18:31:28  2015-12-21 17:34:16  2015-12-22 18:16:35   \n\n            2015-12-23           2015-12-24 2015-12-25           2015-12-28  \\\n0  2015-12-23 16:44:44  2015-12-24 17:47:22        NaN  2015-12-28 18:00:07   \n1  2015-12-23 17:38:18                  NaN        NaN  2015-12-28 17:08:38   \n\n            2015-12-29           2015-12-30           2015-12-31  \n0  2015-12-29 17:22:30  2015-12-30 17:40:56  2015-12-31 17:17:33  \n1  2015-12-29 17:54:46  2015-12-30 18:31:35  2015-12-31 17:40:58  \n\n[2 rows x 262 columns]",
      "text/html": "<div>\n<style scoped>\n    .dataframe tbody tr th:only-of-type {\n        vertical-align: middle;\n    }\n\n    .dataframe tbody tr th {\n        vertical-align: top;\n    }\n\n    .dataframe thead th {\n        text-align: right;\n    }\n</style>\n<table border=\"1\" class=\"dataframe\">\n  <thead>\n    <tr style=\"text-align: right;\">\n      <th></th>\n      <th>Unnamed: 0</th>\n      <th>2015-01-01</th>\n      <th>2015-01-02</th>\n      <th>2015-01-05</th>\n      <th>2015-01-06</th>\n      <th>2015-01-07</th>\n      <th>2015-01-08</th>\n      <th>2015-01-09</th>\n      <th>2015-01-12</th>\n      <th>2015-01-13</th>\n      <th>...</th>\n      <th>2015-12-18</th>\n      <th>2015-12-21</th>\n      <th>2015-12-22</th>\n      <th>2015-12-23</th>\n      <th>2015-12-24</th>\n      <th>2015-12-25</th>\n      <th>2015-12-28</th>\n      <th>2015-12-29</th>\n      <th>2015-12-30</th>\n      <th>2015-12-31</th>\n    </tr>\n  </thead>\n  <tbody>\n    <tr>\n      <th>0</th>\n      <td>1</td>\n      <td>NaN</td>\n      <td>2015-01-02 16:56:15</td>\n      <td>2015-01-05 17:20:11</td>\n      <td>2015-01-06 17:19:05</td>\n      <td>2015-01-07 16:34:55</td>\n      <td>2015-01-08 17:08:32</td>\n      <td>2015-01-09 17:38:29</td>\n      <td>2015-01-12 16:58:39</td>\n      <td>2015-01-13 18:02:58</td>\n      <td>...</td>\n      <td>NaN</td>\n      <td>2015-12-21 17:15:50</td>\n      <td>2015-12-22 17:27:51</td>\n      <td>2015-12-23 16:44:44</td>\n      <td>2015-12-24 17:47:22</td>\n      <td>NaN</td>\n      <td>2015-12-28 18:00:07</td>\n      <td>2015-12-29 17:22:30</td>\n      <td>2015-12-30 17:40:56</td>\n      <td>2015-12-31 17:17:33</td>\n    </tr>\n    <tr>\n      <th>1</th>\n      <td>2</td>\n      <td>NaN</td>\n      <td>2015-01-02 18:22:17</td>\n      <td>2015-01-05 17:48:22</td>\n      <td>NaN</td>\n      <td>2015-01-07 17:09:06</td>\n      <td>2015-01-08 17:34:04</td>\n      <td>2015-01-09 16:52:29</td>\n      <td>2015-01-12 17:36:48</td>\n      <td>2015-01-13 18:00:13</td>\n      <td>...</td>\n      <td>2015-12-18 18:31:28</td>\n      <td>2015-12-21 17:34:16</td>\n      <td>2015-12-22 18:16:35</td>\n      <td>2015-12-23 17:38:18</td>\n      <td>NaN</td>\n      <td>NaN</td>\n      <td>2015-12-28 17:08:38</td>\n      <td>2015-12-29 17:54:46</td>\n      <td>2015-12-30 18:31:35</td>\n      <td>2015-12-31 17:40:58</td>\n    </tr>\n  </tbody>\n</table>\n<p>2 rows × 262 columns</p>\n</div>"
     },
     "execution_count": 48,
     "metadata": {},
     "output_type": "execute_result"
    }
   ],
   "source": [
    "check_df(out_time_df, \"out_time_df\")\n",
    "out_time_df.head(2)"
   ]
  },
  {
   "cell_type": "markdown",
   "id": "bf43d75a",
   "metadata": {},
   "source": [
    "## Gestion des horraires"
   ]
  },
  {
   "cell_type": "markdown",
   "id": "2862f3a6",
   "metadata": {},
   "source": [
    "Une des premières remarques que nous pouvons faire suite à l'analyse de l'intégrité de nos données, c'est que nous avons beaucoup de données NaN dans les dataframe créé à partir des fichiers csv. Selon nous elle représente les abscences des employées, elle ne peuvent donc pas être simplement enlevé. De plus nous remarquons que certains jours comme le 1er janvier, tous les employées sont en marqué en NaN ce qui consolide notre hypothèse de départ."
   ]
  },
  {
   "cell_type": "code",
   "execution_count": 49,
   "id": "2c25d25d",
   "metadata": {
    "ExecuteTime": {
     "end_time": "2024-02-02T10:23:59.354260500Z",
     "start_time": "2024-02-02T10:23:59.178523500Z"
    }
   },
   "outputs": [
    {
     "data": {
      "text/plain": "   Unnamed: 0  2015-01-01           2015-01-02           2015-01-05  \\\n0           1         0.0  2015-01-02 09:43:45  2015-01-05 10:08:48   \n1           2         0.0  2015-01-02 10:15:44  2015-01-05 10:21:05   \n2           3         0.0  2015-01-02 10:17:41  2015-01-05 09:50:50   \n3           4         0.0  2015-01-02 10:05:06  2015-01-05 09:56:32   \n4           5         0.0  2015-01-02 10:28:17  2015-01-05 09:49:58   \n\n            2015-01-06           2015-01-07           2015-01-08  \\\n0  2015-01-06 09:54:26  2015-01-07 09:34:31  2015-01-08 09:51:09   \n1                    0  2015-01-07 09:45:17  2015-01-08 10:09:04   \n2  2015-01-06 10:14:13  2015-01-07 09:47:27  2015-01-08 10:03:40   \n3  2015-01-06 10:11:07  2015-01-07 09:37:30  2015-01-08 10:02:08   \n4  2015-01-06 09:45:28  2015-01-07 09:49:37  2015-01-08 10:19:44   \n\n            2015-01-09           2015-01-12           2015-01-13  ...  \\\n0  2015-01-09 10:09:25  2015-01-12 09:42:53  2015-01-13 10:13:06  ...   \n1  2015-01-09 09:43:26  2015-01-12 10:00:07  2015-01-13 10:43:29  ...   \n2  2015-01-09 10:05:49  2015-01-12 10:03:47  2015-01-13 10:21:26  ...   \n3  2015-01-09 10:08:12  2015-01-12 10:13:42  2015-01-13 09:53:22  ...   \n4  2015-01-09 10:00:50  2015-01-12 10:29:27  2015-01-13 09:59:32  ...   \n\n            2015-12-18           2015-12-21           2015-12-22  \\\n0                    0  2015-12-21 09:55:29  2015-12-22 10:04:06   \n1  2015-12-18 10:37:17  2015-12-21 09:49:02  2015-12-22 10:33:51   \n2  2015-12-18 10:15:14  2015-12-21 10:10:28  2015-12-22 09:44:44   \n3  2015-12-18 10:17:38  2015-12-21 09:58:21  2015-12-22 10:04:25   \n4  2015-12-18 09:58:35  2015-12-21 10:03:41  2015-12-22 10:10:30   \n\n            2015-12-23           2015-12-24 2015-12-25           2015-12-28  \\\n0  2015-12-23 10:14:27  2015-12-24 10:11:35        0.0  2015-12-28 10:13:41   \n1  2015-12-23 10:12:10                    0        0.0  2015-12-28 09:31:45   \n2  2015-12-23 10:15:54  2015-12-24 10:07:26        0.0  2015-12-28 09:42:05   \n3  2015-12-23 10:11:46  2015-12-24 09:43:15        0.0  2015-12-28 09:52:44   \n4  2015-12-23 10:13:36  2015-12-24 09:44:24        0.0  2015-12-28 10:05:15   \n\n            2015-12-29           2015-12-30           2015-12-31  \n0  2015-12-29 10:03:36  2015-12-30 09:54:12  2015-12-31 10:12:44  \n1  2015-12-29 09:55:49  2015-12-30 10:32:25  2015-12-31 09:27:20  \n2  2015-12-29 09:43:36  2015-12-30 09:34:05  2015-12-31 10:28:39  \n3  2015-12-29 09:33:16  2015-12-30 10:18:12  2015-12-31 10:01:15  \n4  2015-12-29 10:30:53  2015-12-30 09:18:21  2015-12-31 09:41:09  \n\n[5 rows x 262 columns]",
      "text/html": "<div>\n<style scoped>\n    .dataframe tbody tr th:only-of-type {\n        vertical-align: middle;\n    }\n\n    .dataframe tbody tr th {\n        vertical-align: top;\n    }\n\n    .dataframe thead th {\n        text-align: right;\n    }\n</style>\n<table border=\"1\" class=\"dataframe\">\n  <thead>\n    <tr style=\"text-align: right;\">\n      <th></th>\n      <th>Unnamed: 0</th>\n      <th>2015-01-01</th>\n      <th>2015-01-02</th>\n      <th>2015-01-05</th>\n      <th>2015-01-06</th>\n      <th>2015-01-07</th>\n      <th>2015-01-08</th>\n      <th>2015-01-09</th>\n      <th>2015-01-12</th>\n      <th>2015-01-13</th>\n      <th>...</th>\n      <th>2015-12-18</th>\n      <th>2015-12-21</th>\n      <th>2015-12-22</th>\n      <th>2015-12-23</th>\n      <th>2015-12-24</th>\n      <th>2015-12-25</th>\n      <th>2015-12-28</th>\n      <th>2015-12-29</th>\n      <th>2015-12-30</th>\n      <th>2015-12-31</th>\n    </tr>\n  </thead>\n  <tbody>\n    <tr>\n      <th>0</th>\n      <td>1</td>\n      <td>0.0</td>\n      <td>2015-01-02 09:43:45</td>\n      <td>2015-01-05 10:08:48</td>\n      <td>2015-01-06 09:54:26</td>\n      <td>2015-01-07 09:34:31</td>\n      <td>2015-01-08 09:51:09</td>\n      <td>2015-01-09 10:09:25</td>\n      <td>2015-01-12 09:42:53</td>\n      <td>2015-01-13 10:13:06</td>\n      <td>...</td>\n      <td>0</td>\n      <td>2015-12-21 09:55:29</td>\n      <td>2015-12-22 10:04:06</td>\n      <td>2015-12-23 10:14:27</td>\n      <td>2015-12-24 10:11:35</td>\n      <td>0.0</td>\n      <td>2015-12-28 10:13:41</td>\n      <td>2015-12-29 10:03:36</td>\n      <td>2015-12-30 09:54:12</td>\n      <td>2015-12-31 10:12:44</td>\n    </tr>\n    <tr>\n      <th>1</th>\n      <td>2</td>\n      <td>0.0</td>\n      <td>2015-01-02 10:15:44</td>\n      <td>2015-01-05 10:21:05</td>\n      <td>0</td>\n      <td>2015-01-07 09:45:17</td>\n      <td>2015-01-08 10:09:04</td>\n      <td>2015-01-09 09:43:26</td>\n      <td>2015-01-12 10:00:07</td>\n      <td>2015-01-13 10:43:29</td>\n      <td>...</td>\n      <td>2015-12-18 10:37:17</td>\n      <td>2015-12-21 09:49:02</td>\n      <td>2015-12-22 10:33:51</td>\n      <td>2015-12-23 10:12:10</td>\n      <td>0</td>\n      <td>0.0</td>\n      <td>2015-12-28 09:31:45</td>\n      <td>2015-12-29 09:55:49</td>\n      <td>2015-12-30 10:32:25</td>\n      <td>2015-12-31 09:27:20</td>\n    </tr>\n    <tr>\n      <th>2</th>\n      <td>3</td>\n      <td>0.0</td>\n      <td>2015-01-02 10:17:41</td>\n      <td>2015-01-05 09:50:50</td>\n      <td>2015-01-06 10:14:13</td>\n      <td>2015-01-07 09:47:27</td>\n      <td>2015-01-08 10:03:40</td>\n      <td>2015-01-09 10:05:49</td>\n      <td>2015-01-12 10:03:47</td>\n      <td>2015-01-13 10:21:26</td>\n      <td>...</td>\n      <td>2015-12-18 10:15:14</td>\n      <td>2015-12-21 10:10:28</td>\n      <td>2015-12-22 09:44:44</td>\n      <td>2015-12-23 10:15:54</td>\n      <td>2015-12-24 10:07:26</td>\n      <td>0.0</td>\n      <td>2015-12-28 09:42:05</td>\n      <td>2015-12-29 09:43:36</td>\n      <td>2015-12-30 09:34:05</td>\n      <td>2015-12-31 10:28:39</td>\n    </tr>\n    <tr>\n      <th>3</th>\n      <td>4</td>\n      <td>0.0</td>\n      <td>2015-01-02 10:05:06</td>\n      <td>2015-01-05 09:56:32</td>\n      <td>2015-01-06 10:11:07</td>\n      <td>2015-01-07 09:37:30</td>\n      <td>2015-01-08 10:02:08</td>\n      <td>2015-01-09 10:08:12</td>\n      <td>2015-01-12 10:13:42</td>\n      <td>2015-01-13 09:53:22</td>\n      <td>...</td>\n      <td>2015-12-18 10:17:38</td>\n      <td>2015-12-21 09:58:21</td>\n      <td>2015-12-22 10:04:25</td>\n      <td>2015-12-23 10:11:46</td>\n      <td>2015-12-24 09:43:15</td>\n      <td>0.0</td>\n      <td>2015-12-28 09:52:44</td>\n      <td>2015-12-29 09:33:16</td>\n      <td>2015-12-30 10:18:12</td>\n      <td>2015-12-31 10:01:15</td>\n    </tr>\n    <tr>\n      <th>4</th>\n      <td>5</td>\n      <td>0.0</td>\n      <td>2015-01-02 10:28:17</td>\n      <td>2015-01-05 09:49:58</td>\n      <td>2015-01-06 09:45:28</td>\n      <td>2015-01-07 09:49:37</td>\n      <td>2015-01-08 10:19:44</td>\n      <td>2015-01-09 10:00:50</td>\n      <td>2015-01-12 10:29:27</td>\n      <td>2015-01-13 09:59:32</td>\n      <td>...</td>\n      <td>2015-12-18 09:58:35</td>\n      <td>2015-12-21 10:03:41</td>\n      <td>2015-12-22 10:10:30</td>\n      <td>2015-12-23 10:13:36</td>\n      <td>2015-12-24 09:44:24</td>\n      <td>0.0</td>\n      <td>2015-12-28 10:05:15</td>\n      <td>2015-12-29 10:30:53</td>\n      <td>2015-12-30 09:18:21</td>\n      <td>2015-12-31 09:41:09</td>\n    </tr>\n  </tbody>\n</table>\n<p>5 rows × 262 columns</p>\n</div>"
     },
     "execution_count": 49,
     "metadata": {},
     "output_type": "execute_result"
    }
   ],
   "source": [
    "in_time_df.fillna(0,inplace=True)\n",
    "out_time_df.fillna(0,inplace= True)\n",
    "in_time_df.head()"
   ]
  },
  {
   "cell_type": "code",
   "outputs": [
    {
     "data": {
      "text/plain": "        EmployeeID  AverageHours\ncount  4410.000000   4410.000000\nmean   2204.500000      6.951436\nstd    1273.201673      1.264739\nmin       0.000000      5.148103\n25%    1102.250000      5.967834\n50%    2204.500000      6.663291\n75%    3306.750000      7.508761\nmax    4409.000000     10.394573",
      "text/html": "<div>\n<style scoped>\n    .dataframe tbody tr th:only-of-type {\n        vertical-align: middle;\n    }\n\n    .dataframe tbody tr th {\n        vertical-align: top;\n    }\n\n    .dataframe thead th {\n        text-align: right;\n    }\n</style>\n<table border=\"1\" class=\"dataframe\">\n  <thead>\n    <tr style=\"text-align: right;\">\n      <th></th>\n      <th>EmployeeID</th>\n      <th>AverageHours</th>\n    </tr>\n  </thead>\n  <tbody>\n    <tr>\n      <th>count</th>\n      <td>4410.000000</td>\n      <td>4410.000000</td>\n    </tr>\n    <tr>\n      <th>mean</th>\n      <td>2204.500000</td>\n      <td>6.951436</td>\n    </tr>\n    <tr>\n      <th>std</th>\n      <td>1273.201673</td>\n      <td>1.264739</td>\n    </tr>\n    <tr>\n      <th>min</th>\n      <td>0.000000</td>\n      <td>5.148103</td>\n    </tr>\n    <tr>\n      <th>25%</th>\n      <td>1102.250000</td>\n      <td>5.967834</td>\n    </tr>\n    <tr>\n      <th>50%</th>\n      <td>2204.500000</td>\n      <td>6.663291</td>\n    </tr>\n    <tr>\n      <th>75%</th>\n      <td>3306.750000</td>\n      <td>7.508761</td>\n    </tr>\n    <tr>\n      <th>max</th>\n      <td>4409.000000</td>\n      <td>10.394573</td>\n    </tr>\n  </tbody>\n</table>\n</div>"
     },
     "execution_count": 50,
     "metadata": {},
     "output_type": "execute_result"
    }
   ],
   "source": [
    "in_time_df.rename(columns={'Unnamed: 0':'EmployeeID'}, inplace=True)\n",
    "out_time_df.rename(columns={'Unnamed: 0':'EmployeeID'}, inplace=True)\n",
    "\n",
    "for col in in_time_df.columns:\n",
    "    in_time_df[col] = pd.to_datetime(in_time_df[col], errors='coerce')\n",
    "    \n",
    "for col in out_time_df.columns:\n",
    "    out_time_df[col] = pd.to_datetime(out_time_df[col], errors='coerce')\n",
    "\n",
    "daily_hours = (out_time_df - in_time_df).applymap(lambda x: x.total_seconds() / 3600)\n",
    "daily_hours = daily_hours.fillna(0)\n",
    "average_hours_per_day = daily_hours.mean(axis=1)\n",
    "average_hours_df = pd.DataFrame({'EmployeeID': average_hours_per_day.index, 'AverageHours': average_hours_per_day.values})\n",
    "\n",
    "average_hours_df.describe()"
   ],
   "metadata": {
    "collapsed": false,
    "ExecuteTime": {
     "end_time": "2024-02-02T10:24:02.080910900Z",
     "start_time": "2024-02-02T10:23:59.340250200Z"
    }
   },
   "id": "1061e230",
   "execution_count": 50
  },
  {
   "cell_type": "markdown",
   "id": "3118d1a8",
   "metadata": {},
   "source": [
    "## Merge des données"
   ]
  },
  {
   "cell_type": "markdown",
   "id": "6889f53f",
   "metadata": {},
   "source": [
    "Toujour dans le but d'analyser nos données, nous devons les merges en un seul est nique dataframe, pour ce faire nous allons faire des inner join en nous basant sur la colonne :\"EmployeeID\". De ce fait, nous allons nous retrouver avec un dataframe regroupant toutes les informations que nous souhaitons analyser à propos de notre employé."
   ]
  },
  {
   "cell_type": "code",
   "execution_count": 51,
   "id": "3536d2f6",
   "metadata": {
    "ExecuteTime": {
     "end_time": "2024-02-02T10:24:02.086910400Z",
     "start_time": "2024-02-02T10:24:02.077781200Z"
    }
   },
   "outputs": [],
   "source": [
    "final_df = pd.merge(general_data_df, manager_survey_data_df, on = 'EmployeeID', how = 'inner')"
   ]
  },
  {
   "cell_type": "code",
   "execution_count": 52,
   "id": "8ecdb5cc",
   "metadata": {
    "ExecuteTime": {
     "end_time": "2024-02-02T10:24:02.099803400Z",
     "start_time": "2024-02-02T10:24:02.086910400Z"
    }
   },
   "outputs": [],
   "source": [
    "final_df = pd.merge(final_df, employee_survey_data_df, on = 'EmployeeID', how = 'inner')"
   ]
  },
  {
   "cell_type": "code",
   "execution_count": 53,
   "id": "fda7eb0f",
   "metadata": {
    "ExecuteTime": {
     "end_time": "2024-02-02T10:24:02.129115400Z",
     "start_time": "2024-02-02T10:24:02.100803900Z"
    }
   },
   "outputs": [],
   "source": [
    "final_df = pd.merge(final_df, average_hours_df, on = 'EmployeeID', how = 'inner')"
   ]
  },
  {
   "cell_type": "markdown",
   "id": "04f81fcf",
   "metadata": {},
   "source": [
    "## Traitement des données finales"
   ]
  },
  {
   "cell_type": "code",
   "execution_count": 54,
   "id": "5e782768",
   "metadata": {
    "ExecuteTime": {
     "end_time": "2024-02-02T10:24:02.130115300Z",
     "start_time": "2024-02-02T10:24:02.107283300Z"
    }
   },
   "outputs": [
    {
     "name": "stdout",
     "output_type": "stream",
     "text": [
      "<class 'pandas.core.frame.DataFrame'>\n",
      "RangeIndex: 4409 entries, 0 to 4408\n",
      "Data columns (total 30 columns):\n",
      " #   Column                   Non-Null Count  Dtype  \n",
      "---  ------                   --------------  -----  \n",
      " 0   Age                      4409 non-null   int64  \n",
      " 1   Attrition                4409 non-null   object \n",
      " 2   BusinessTravel           4409 non-null   object \n",
      " 3   Department               4409 non-null   object \n",
      " 4   DistanceFromHome         4409 non-null   int64  \n",
      " 5   Education                4409 non-null   int64  \n",
      " 6   EducationField           4409 non-null   object \n",
      " 7   EmployeeCount            4409 non-null   int64  \n",
      " 8   EmployeeID               4409 non-null   int64  \n",
      " 9   Gender                   4409 non-null   object \n",
      " 10  JobLevel                 4409 non-null   int64  \n",
      " 11  JobRole                  4409 non-null   object \n",
      " 12  MaritalStatus            4409 non-null   object \n",
      " 13  MonthlyIncome            4409 non-null   int64  \n",
      " 14  NumCompaniesWorked       4390 non-null   float64\n",
      " 15  Over18                   4409 non-null   object \n",
      " 16  PercentSalaryHike        4409 non-null   int64  \n",
      " 17  StandardHours            4409 non-null   int64  \n",
      " 18  StockOptionLevel         4409 non-null   int64  \n",
      " 19  TotalWorkingYears        4401 non-null   float64\n",
      " 20  TrainingTimesLastYear    4409 non-null   int64  \n",
      " 21  YearsAtCompany           4409 non-null   int64  \n",
      " 22  YearsSinceLastPromotion  4409 non-null   int64  \n",
      " 23  YearsWithCurrManager     4409 non-null   int64  \n",
      " 24  JobInvolvement           4409 non-null   int64  \n",
      " 25  PerformanceRating        4409 non-null   int64  \n",
      " 26  EnvironmentSatisfaction  4384 non-null   float64\n",
      " 27  JobSatisfaction          4389 non-null   float64\n",
      " 28  WorkLifeBalance          4372 non-null   float64\n",
      " 29  AverageHours             4409 non-null   float64\n",
      "dtypes: float64(6), int64(16), object(8)\n",
      "memory usage: 1.0+ MB\n"
     ]
    }
   ],
   "source": [
    "final_df.info()"
   ]
  },
  {
   "cell_type": "code",
   "execution_count": 55,
   "id": "3164cbec",
   "metadata": {
    "ExecuteTime": {
     "end_time": "2024-02-02T10:24:02.189759900Z",
     "start_time": "2024-02-02T10:24:02.114792400Z"
    }
   },
   "outputs": [
    {
     "data": {
      "text/plain": "               Age  DistanceFromHome    Education  EmployeeCount   EmployeeID  \\\ncount  4409.000000       4409.000000  4409.000000         4409.0  4409.000000   \nmean     36.923112          9.188251     2.912905            1.0  2205.000000   \nstd       9.134220          8.100992     1.024048            0.0  1272.912998   \nmin      18.000000          1.000000     1.000000            1.0     1.000000   \n25%      30.000000          2.000000     2.000000            1.0  1103.000000   \n50%      36.000000          7.000000     3.000000            1.0  2205.000000   \n75%      43.000000         14.000000     4.000000            1.0  3307.000000   \nmax      60.000000         29.000000     5.000000            1.0  4409.000000   \n\n          JobLevel  MonthlyIncome  NumCompaniesWorked  PercentSalaryHike  \\\ncount  4409.000000    4409.000000         4390.000000        4409.000000   \nmean      2.063960   65031.660240            2.695444          15.210252   \nstd       1.106814   47073.969139            2.498840           3.659203   \nmin       1.000000   10090.000000            0.000000          11.000000   \n25%       1.000000   29110.000000            1.000000          12.000000   \n50%       2.000000   49080.000000            2.000000          14.000000   \n75%       3.000000   83800.000000            4.000000          18.000000   \nmax       5.000000  199990.000000            9.000000          25.000000   \n\n       StandardHours  ...  TrainingTimesLastYear  YearsAtCompany  \\\ncount         4409.0  ...            4409.000000     4409.000000   \nmean             8.0  ...               2.798594        7.004990   \nstd              0.0  ...               1.288222        6.122203   \nmin              8.0  ...               0.000000        0.000000   \n25%              8.0  ...               2.000000        3.000000   \n50%              8.0  ...               3.000000        5.000000   \n75%              8.0  ...               3.000000        9.000000   \nmax              8.0  ...               6.000000       40.000000   \n\n       YearsSinceLastPromotion  YearsWithCurrManager  JobInvolvement  \\\ncount              4409.000000           4409.000000     4409.000000   \nmean                  2.187571              4.122023        2.729644   \nstd                   3.222042              3.566975        0.711223   \nmin                   0.000000              0.000000        1.000000   \n25%                   0.000000              2.000000        2.000000   \n50%                   1.000000              3.000000        3.000000   \n75%                   3.000000              7.000000        3.000000   \nmax                  15.000000             17.000000        4.000000   \n\n       PerformanceRating  EnvironmentSatisfaction  JobSatisfaction  \\\ncount        4409.000000              4384.000000      4389.000000   \nmean            3.153776                 2.723996         2.728184   \nstd             0.360775                 1.092571         1.101371   \nmin             3.000000                 1.000000         1.000000   \n25%             3.000000                 2.000000         2.000000   \n50%             3.000000                 3.000000         3.000000   \n75%             3.000000                 4.000000         4.000000   \nmax             4.000000                 4.000000         4.000000   \n\n       WorkLifeBalance  AverageHours  \ncount      4372.000000   4409.000000  \nmean          2.761436      6.951532  \nstd           0.706245      1.264866  \nmin           1.000000      5.148103  \n25%           2.000000      5.967442  \n50%           3.000000      6.663351  \n75%           3.000000      7.508901  \nmax           4.000000     10.394573  \n\n[8 rows x 22 columns]",
      "text/html": "<div>\n<style scoped>\n    .dataframe tbody tr th:only-of-type {\n        vertical-align: middle;\n    }\n\n    .dataframe tbody tr th {\n        vertical-align: top;\n    }\n\n    .dataframe thead th {\n        text-align: right;\n    }\n</style>\n<table border=\"1\" class=\"dataframe\">\n  <thead>\n    <tr style=\"text-align: right;\">\n      <th></th>\n      <th>Age</th>\n      <th>DistanceFromHome</th>\n      <th>Education</th>\n      <th>EmployeeCount</th>\n      <th>EmployeeID</th>\n      <th>JobLevel</th>\n      <th>MonthlyIncome</th>\n      <th>NumCompaniesWorked</th>\n      <th>PercentSalaryHike</th>\n      <th>StandardHours</th>\n      <th>...</th>\n      <th>TrainingTimesLastYear</th>\n      <th>YearsAtCompany</th>\n      <th>YearsSinceLastPromotion</th>\n      <th>YearsWithCurrManager</th>\n      <th>JobInvolvement</th>\n      <th>PerformanceRating</th>\n      <th>EnvironmentSatisfaction</th>\n      <th>JobSatisfaction</th>\n      <th>WorkLifeBalance</th>\n      <th>AverageHours</th>\n    </tr>\n  </thead>\n  <tbody>\n    <tr>\n      <th>count</th>\n      <td>4409.000000</td>\n      <td>4409.000000</td>\n      <td>4409.000000</td>\n      <td>4409.0</td>\n      <td>4409.000000</td>\n      <td>4409.000000</td>\n      <td>4409.000000</td>\n      <td>4390.000000</td>\n      <td>4409.000000</td>\n      <td>4409.0</td>\n      <td>...</td>\n      <td>4409.000000</td>\n      <td>4409.000000</td>\n      <td>4409.000000</td>\n      <td>4409.000000</td>\n      <td>4409.000000</td>\n      <td>4409.000000</td>\n      <td>4384.000000</td>\n      <td>4389.000000</td>\n      <td>4372.000000</td>\n      <td>4409.000000</td>\n    </tr>\n    <tr>\n      <th>mean</th>\n      <td>36.923112</td>\n      <td>9.188251</td>\n      <td>2.912905</td>\n      <td>1.0</td>\n      <td>2205.000000</td>\n      <td>2.063960</td>\n      <td>65031.660240</td>\n      <td>2.695444</td>\n      <td>15.210252</td>\n      <td>8.0</td>\n      <td>...</td>\n      <td>2.798594</td>\n      <td>7.004990</td>\n      <td>2.187571</td>\n      <td>4.122023</td>\n      <td>2.729644</td>\n      <td>3.153776</td>\n      <td>2.723996</td>\n      <td>2.728184</td>\n      <td>2.761436</td>\n      <td>6.951532</td>\n    </tr>\n    <tr>\n      <th>std</th>\n      <td>9.134220</td>\n      <td>8.100992</td>\n      <td>1.024048</td>\n      <td>0.0</td>\n      <td>1272.912998</td>\n      <td>1.106814</td>\n      <td>47073.969139</td>\n      <td>2.498840</td>\n      <td>3.659203</td>\n      <td>0.0</td>\n      <td>...</td>\n      <td>1.288222</td>\n      <td>6.122203</td>\n      <td>3.222042</td>\n      <td>3.566975</td>\n      <td>0.711223</td>\n      <td>0.360775</td>\n      <td>1.092571</td>\n      <td>1.101371</td>\n      <td>0.706245</td>\n      <td>1.264866</td>\n    </tr>\n    <tr>\n      <th>min</th>\n      <td>18.000000</td>\n      <td>1.000000</td>\n      <td>1.000000</td>\n      <td>1.0</td>\n      <td>1.000000</td>\n      <td>1.000000</td>\n      <td>10090.000000</td>\n      <td>0.000000</td>\n      <td>11.000000</td>\n      <td>8.0</td>\n      <td>...</td>\n      <td>0.000000</td>\n      <td>0.000000</td>\n      <td>0.000000</td>\n      <td>0.000000</td>\n      <td>1.000000</td>\n      <td>3.000000</td>\n      <td>1.000000</td>\n      <td>1.000000</td>\n      <td>1.000000</td>\n      <td>5.148103</td>\n    </tr>\n    <tr>\n      <th>25%</th>\n      <td>30.000000</td>\n      <td>2.000000</td>\n      <td>2.000000</td>\n      <td>1.0</td>\n      <td>1103.000000</td>\n      <td>1.000000</td>\n      <td>29110.000000</td>\n      <td>1.000000</td>\n      <td>12.000000</td>\n      <td>8.0</td>\n      <td>...</td>\n      <td>2.000000</td>\n      <td>3.000000</td>\n      <td>0.000000</td>\n      <td>2.000000</td>\n      <td>2.000000</td>\n      <td>3.000000</td>\n      <td>2.000000</td>\n      <td>2.000000</td>\n      <td>2.000000</td>\n      <td>5.967442</td>\n    </tr>\n    <tr>\n      <th>50%</th>\n      <td>36.000000</td>\n      <td>7.000000</td>\n      <td>3.000000</td>\n      <td>1.0</td>\n      <td>2205.000000</td>\n      <td>2.000000</td>\n      <td>49080.000000</td>\n      <td>2.000000</td>\n      <td>14.000000</td>\n      <td>8.0</td>\n      <td>...</td>\n      <td>3.000000</td>\n      <td>5.000000</td>\n      <td>1.000000</td>\n      <td>3.000000</td>\n      <td>3.000000</td>\n      <td>3.000000</td>\n      <td>3.000000</td>\n      <td>3.000000</td>\n      <td>3.000000</td>\n      <td>6.663351</td>\n    </tr>\n    <tr>\n      <th>75%</th>\n      <td>43.000000</td>\n      <td>14.000000</td>\n      <td>4.000000</td>\n      <td>1.0</td>\n      <td>3307.000000</td>\n      <td>3.000000</td>\n      <td>83800.000000</td>\n      <td>4.000000</td>\n      <td>18.000000</td>\n      <td>8.0</td>\n      <td>...</td>\n      <td>3.000000</td>\n      <td>9.000000</td>\n      <td>3.000000</td>\n      <td>7.000000</td>\n      <td>3.000000</td>\n      <td>3.000000</td>\n      <td>4.000000</td>\n      <td>4.000000</td>\n      <td>3.000000</td>\n      <td>7.508901</td>\n    </tr>\n    <tr>\n      <th>max</th>\n      <td>60.000000</td>\n      <td>29.000000</td>\n      <td>5.000000</td>\n      <td>1.0</td>\n      <td>4409.000000</td>\n      <td>5.000000</td>\n      <td>199990.000000</td>\n      <td>9.000000</td>\n      <td>25.000000</td>\n      <td>8.0</td>\n      <td>...</td>\n      <td>6.000000</td>\n      <td>40.000000</td>\n      <td>15.000000</td>\n      <td>17.000000</td>\n      <td>4.000000</td>\n      <td>4.000000</td>\n      <td>4.000000</td>\n      <td>4.000000</td>\n      <td>4.000000</td>\n      <td>10.394573</td>\n    </tr>\n  </tbody>\n</table>\n<p>8 rows × 22 columns</p>\n</div>"
     },
     "execution_count": 55,
     "metadata": {},
     "output_type": "execute_result"
    }
   ],
   "source": [
    "final_df.describe()"
   ]
  },
  {
   "cell_type": "markdown",
   "id": "00e5bb54",
   "metadata": {},
   "source": [
    "Check des valeurs nulles"
   ]
  },
  {
   "cell_type": "code",
   "execution_count": 56,
   "id": "db1905a9",
   "metadata": {
    "ExecuteTime": {
     "end_time": "2024-02-02T10:24:02.191067100Z",
     "start_time": "2024-02-02T10:24:02.144946700Z"
    }
   },
   "outputs": [
    {
     "data": {
      "text/plain": "Age                         0\nAttrition                   0\nBusinessTravel              0\nDepartment                  0\nDistanceFromHome            0\nEducation                   0\nEducationField              0\nEmployeeCount               0\nEmployeeID                  0\nGender                      0\nJobLevel                    0\nJobRole                     0\nMaritalStatus               0\nMonthlyIncome               0\nNumCompaniesWorked         19\nOver18                      0\nPercentSalaryHike           0\nStandardHours               0\nStockOptionLevel            0\nTotalWorkingYears           8\nTrainingTimesLastYear       0\nYearsAtCompany              0\nYearsSinceLastPromotion     0\nYearsWithCurrManager        0\nJobInvolvement              0\nPerformanceRating           0\nEnvironmentSatisfaction    25\nJobSatisfaction            20\nWorkLifeBalance            37\nAverageHours                0\ndtype: int64"
     },
     "execution_count": 56,
     "metadata": {},
     "output_type": "execute_result"
    }
   ],
   "source": [
    "final_df.isnull().sum()"
   ]
  },
  {
   "cell_type": "markdown",
   "id": "206ca43d",
   "metadata": {},
   "source": [
    "### Traitement NumCompaniesWorked"
   ]
  },
  {
   "cell_type": "markdown",
   "id": "f6cd5445",
   "metadata": {},
   "source": [
    "Nous venons de nous apercevoir qu'il manque des données dans l'une de nos colonnes, or il ne s'ait pas d'une type int mais d'un type objet, nous ne pouvons donc pas ajouter la valeur median comme on le ferait en temps normal. De plus cette donnée étant importante nous ne pouvons pas nous permettre de la supprimer et non plus de supprimer la ligne de l'employé ou cette valeur est nul.\n",
    "Dans ce cas bien précis, nous allons étudier la distribution des données est attribué aux données vides la valeur l plus répendue au sein de notre jeu de données."
   ]
  },
  {
   "cell_type": "code",
   "execution_count": 57,
   "id": "0532338b",
   "metadata": {
    "ExecuteTime": {
     "end_time": "2024-02-02T10:24:02.350003Z",
     "start_time": "2024-02-02T10:24:02.149825800Z"
    }
   },
   "outputs": [
    {
     "data": {
      "text/plain": "<Axes: xlabel='NumCompaniesWorked', ylabel='count'>"
     },
     "execution_count": 57,
     "metadata": {},
     "output_type": "execute_result"
    },
    {
     "data": {
      "text/plain": "<Figure size 2000x500 with 1 Axes>",
      "image/png": "[encoded data removed]"
     },
     "metadata": {},
     "output_type": "display_data"
    }
   ],
   "source": [
    "plt.figure(figsize = (20,5))\n",
    "sns.countplot(x = 'NumCompaniesWorked', data = final_df)"
   ]
  },
  {
   "cell_type": "markdown",
   "id": "4936e0e5",
   "metadata": {},
   "source": [
    "Comme nous pouvons le voir sur ce graphique, la valeur la plus répendu est 1, nous allons donc remplacer les valeurs vides par ce 1."
   ]
  },
  {
   "cell_type": "code",
   "execution_count": 58,
   "id": "a7735898",
   "metadata": {
    "ExecuteTime": {
     "end_time": "2024-02-02T10:24:02.351004500Z",
     "start_time": "2024-02-02T10:24:02.347487Z"
    }
   },
   "outputs": [],
   "source": [
    "final_df['NumCompaniesWorked'].fillna(1.0, inplace = True)"
   ]
  },
  {
   "cell_type": "markdown",
   "id": "3a6fde13",
   "metadata": {},
   "source": [
    "### Traitement données des enquêtes"
   ]
  },
  {
   "cell_type": "markdown",
   "id": "9f30e0b0",
   "metadata": {},
   "source": [
    "Contrairement à la colonne : \"NumCompaniesWorked\", ici nous avons des données numérique, dans le but de créer un jeu de données propre, nous allons remplacer les valeurs vides par la moyenne de toute la colones et ce pour toutes les valeurs manquante des trois colonnes détéctées ci-dessus : \n",
    "- EnvironmentSatisfaction\n",
    "- JobSatisfaction\n",
    "- WorkLifeBalance"
   ]
  },
  {
   "cell_type": "code",
   "execution_count": 59,
   "id": "28585d01",
   "metadata": {
    "ExecuteTime": {
     "end_time": "2024-02-02T10:24:02.358951800Z",
     "start_time": "2024-02-02T10:24:02.352464800Z"
    }
   },
   "outputs": [],
   "source": [
    "environmentSatisfactionMedian = final_df.EnvironmentSatisfaction.median()\n",
    "jobSatisfactionMedian = final_df.JobSatisfaction.median()\n",
    "workLifeBalanceMedian = final_df.WorkLifeBalance.median()\n",
    "totalWorkingYears_median = final_df['TotalWorkingYears'].median()"
   ]
  },
  {
   "cell_type": "code",
   "execution_count": 60,
   "id": "fe179419",
   "metadata": {
    "ExecuteTime": {
     "end_time": "2024-02-02T10:24:02.364973300Z",
     "start_time": "2024-02-02T10:24:02.357018700Z"
    }
   },
   "outputs": [],
   "source": [
    "final_df['EnvironmentSatisfaction'].fillna(environmentSatisfactionMedian, inplace = True)\n",
    "final_df['JobSatisfaction'].fillna(jobSatisfactionMedian, inplace = True)\n",
    "final_df['WorkLifeBalance'].fillna(workLifeBalanceMedian, inplace = True)\n",
    "final_df['TotalWorkingYears'].fillna(totalWorkingYears_median, inplace = True)"
   ]
  },
  {
   "cell_type": "markdown",
   "id": "0211986c",
   "metadata": {},
   "source": [
    "Regardons à nouveau comment se porte nos données : "
   ]
  },
  {
   "cell_type": "code",
   "execution_count": 61,
   "id": "380cf1fd",
   "metadata": {
    "ExecuteTime": {
     "end_time": "2024-02-02T10:24:02.442978900Z",
     "start_time": "2024-02-02T10:24:02.361901Z"
    }
   },
   "outputs": [
    {
     "data": {
      "text/plain": "Age                        0\nAttrition                  0\nBusinessTravel             0\nDepartment                 0\nDistanceFromHome           0\nEducation                  0\nEducationField             0\nEmployeeCount              0\nEmployeeID                 0\nGender                     0\nJobLevel                   0\nJobRole                    0\nMaritalStatus              0\nMonthlyIncome              0\nNumCompaniesWorked         0\nOver18                     0\nPercentSalaryHike          0\nStandardHours              0\nStockOptionLevel           0\nTotalWorkingYears          0\nTrainingTimesLastYear      0\nYearsAtCompany             0\nYearsSinceLastPromotion    0\nYearsWithCurrManager       0\nJobInvolvement             0\nPerformanceRating          0\nEnvironmentSatisfaction    0\nJobSatisfaction            0\nWorkLifeBalance            0\nAverageHours               0\ndtype: int64"
     },
     "execution_count": 61,
     "metadata": {},
     "output_type": "execute_result"
    }
   ],
   "source": [
    "final_df.isnull().sum()"
   ]
  },
  {
   "cell_type": "code",
   "outputs": [
    {
     "name": "stdout",
     "output_type": "stream",
     "text": [
      "<class 'pandas.core.frame.DataFrame'>\n",
      "RangeIndex: 4409 entries, 0 to 4408\n",
      "Data columns (total 30 columns):\n",
      " #   Column                   Non-Null Count  Dtype  \n",
      "---  ------                   --------------  -----  \n",
      " 0   Age                      4409 non-null   int64  \n",
      " 1   Attrition                4409 non-null   object \n",
      " 2   BusinessTravel           4409 non-null   object \n",
      " 3   Department               4409 non-null   object \n",
      " 4   DistanceFromHome         4409 non-null   int64  \n",
      " 5   Education                4409 non-null   int64  \n",
      " 6   EducationField           4409 non-null   object \n",
      " 7   EmployeeCount            4409 non-null   int64  \n",
      " 8   EmployeeID               4409 non-null   int64  \n",
      " 9   Gender                   4409 non-null   object \n",
      " 10  JobLevel                 4409 non-null   int64  \n",
      " 11  JobRole                  4409 non-null   object \n",
      " 12  MaritalStatus            4409 non-null   object \n",
      " 13  MonthlyIncome            4409 non-null   int64  \n",
      " 14  NumCompaniesWorked       4409 non-null   float64\n",
      " 15  Over18                   4409 non-null   object \n",
      " 16  PercentSalaryHike        4409 non-null   int64  \n",
      " 17  StandardHours            4409 non-null   int64  \n",
      " 18  StockOptionLevel         4409 non-null   int64  \n",
      " 19  TotalWorkingYears        4409 non-null   float64\n",
      " 20  TrainingTimesLastYear    4409 non-null   int64  \n",
      " 21  YearsAtCompany           4409 non-null   int64  \n",
      " 22  YearsSinceLastPromotion  4409 non-null   int64  \n",
      " 23  YearsWithCurrManager     4409 non-null   int64  \n",
      " 24  JobInvolvement           4409 non-null   int64  \n",
      " 25  PerformanceRating        4409 non-null   int64  \n",
      " 26  EnvironmentSatisfaction  4409 non-null   float64\n",
      " 27  JobSatisfaction          4409 non-null   float64\n",
      " 28  WorkLifeBalance          4409 non-null   float64\n",
      " 29  AverageHours             4409 non-null   float64\n",
      "dtypes: float64(6), int64(16), object(8)\n",
      "memory usage: 1.0+ MB\n"
     ]
    }
   ],
   "source": [
    "final_df.info()"
   ],
   "metadata": {
    "collapsed": false,
    "ExecuteTime": {
     "end_time": "2024-02-02T10:24:02.442978900Z",
     "start_time": "2024-02-02T10:24:02.367486100Z"
    }
   },
   "id": "815c7b5a877a2215",
   "execution_count": 62
  },
  {
   "cell_type": "code",
   "outputs": [],
   "source": [
    "def save_df_to_blob(dataframe, container_name, blob_name, connection_string):\n",
    "    blob_io = BytesIO()\n",
    "    dataframe.to_csv(blob_io, index=False)\n",
    "    blob_io.seek(0)\n",
    "\n",
    "    blob_service_client = BlobServiceClient.from_connection_string(connection_string)\n",
    "\n",
    "    blob_client = blob_service_client.get_container_client(container_name).get_blob_client(blob_name)\n",
    "\n",
    "    blob_client.upload_blob(blob_io, blob_type=\"BlockBlob\", overwrite=True)"
   ],
   "metadata": {
    "collapsed": false,
    "ExecuteTime": {
     "end_time": "2024-02-02T10:27:51.872947200Z",
     "start_time": "2024-02-02T10:27:51.833624600Z"
    }
   },
   "id": "60f55e39e89360a0",
   "execution_count": 64
  },
  {
   "cell_type": "code",
   "outputs": [],
   "source": [
    "save_df_to_blob(final_df, 'data', 'HumanForYou_datas', os.getenv('AZURE_STORAGE_CONNECTION_STRING'))"
   ],
   "metadata": {
    "collapsed": false,
    "ExecuteTime": {
     "end_time": "2024-02-02T10:27:56.236576900Z",
     "start_time": "2024-02-02T10:27:56.055671500Z"
    }
   },
   "id": "f8cabf072ba79ac0",
   "execution_count": 65
  }
 ],
 "metadata": {
  "kernelspec": {
   "display_name": "Python 3 (ipykernel)",
   "language": "python",
   "name": "python3"
  },
  "language_info": {
   "codemirror_mode": {
    "name": "ipython",
    "version": 3
   },
   "file_extension": ".py",
   "mimetype": "text/x-python",
   "name": "python",
   "nbconvert_exporter": "python",
   "pygments_lexer": "ipython3",
   "version": "3.11.5"
  }
 },
 "nbformat": 4,
 "nbformat_minor": 5
}
